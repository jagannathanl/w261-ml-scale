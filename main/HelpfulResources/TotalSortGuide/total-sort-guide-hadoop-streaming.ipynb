{
 "cells": [
  {
   "cell_type": "markdown",
   "metadata": {},
   "source": [
    "<a name=\"top\">&nbsp;</a>\n",
    "<h1>A Comprehensive Guide to the Total Order Sort With Hadoop Streaming</h1>\n",
    "<hr>\n",
    "\n",
    "__by Kyle Hamilton__   \n",
    "Reservoir sampling implemenation by __Rowan Cassius__ - w261 Summer 2020   \n",
    "University of California, Berkeley\n",
    "\n",
    "Modified from the original by Kyle Hamilton, James G. Shanahan, Yiran Sheng     \n",
    "__Email__: kylehamilton@ischool.berkeley.edu, jimi@ischool.berkeley.edu, yiran@ischool.berkeley.edu\n",
    "\n",
    "\n"
   ]
  },
  {
   "cell_type": "code",
   "execution_count": 168,
   "metadata": {},
   "outputs": [],
   "source": [
    "from IPython.display import Image, HTML"
   ]
  },
  {
   "cell_type": "code",
   "execution_count": 169,
   "metadata": {},
   "outputs": [
    {
     "data": {
      "text/html": [
       "<style>@import 'https://fonts.googleapis.com/css?family=Source+Sans+Pro';\n",
       "\n",
       ".toc-item {\n",
       "  margin: 0!important;\n",
       "  margin-top: 36px!important;\n",
       "  list-style: none;\n",
       "}\n",
       ".toc-item li {\n",
       "  color: #b0dbd9;\n",
       "  margin: 5px 0 5px 10px;\n",
       "  text-shadow: 0 1px 0 white;\n",
       "  list-style: none;\n",
       "}\n",
       ".toc-item li:before {\n",
       "  content: '\\25ca';\n",
       "  display: inline-block;\n",
       "  color: #242433;\n",
       "  padding: 2px;\n",
       "  border-radius: .5px;\n",
       "  float: left;\n",
       "  clear: left;\n",
       "  margin-left: -10px;\n",
       "  margin-top: -3px;\n",
       "  padding: 2px 10px 0 0;\n",
       "}\n",
       "/* jupyter auto add name attributes to H* tags \n",
       " * we will use classNames to simulate title tags */ \n",
       ".toc-heading {\n",
       "  font-size: 18px;\n",
       "}\n",
       "\n",
       "main {\n",
       "  min-width: 320px;\n",
       "  /*max-width: 800px;\n",
       "  padding: 50px;*/\n",
       "  margin: 0 auto;\n",
       "  background: #fff;\n",
       "}\n",
       "a, a:hover, a:link, a:visited{\n",
       "  color:#0b349b;\n",
       "}\n",
       "\n",
       "h2 a, h3 a, h4 a,\n",
       "h2 a:hover,   h3 a:hover,   h4 a:hover,\n",
       "h2 a:link,    h3 a:link,    h4 a:link,\n",
       "h2 a:visited, h3 a:visited, h4 a:visited {\n",
       "  color:#031355;\n",
       "}\n",
       "pre{\n",
       "    background-color:transparent;\n",
       "}\n",
       ".color-start{\n",
       "  background-color: #bdd971;\n",
       "}\n",
       ".color-middle{\n",
       "  background-color: #ffe474;\n",
       "}\n",
       ".color-end{\n",
       "  background-color: #abe1f5;\n",
       "}\n",
       ".code{\n",
       "    font-family:courier;\n",
       "}\n",
       "ul.toc-item > li{\n",
       "  list-style: none;\n",
       "}\n",
       "section.tab {\n",
       "  display: none;\n",
       "  padding: 20px 0 0;\n",
       "  border-top: 1px solid #ddd;\n",
       "}\n",
       "\n",
       "input.tab-state {\n",
       "  display: none;\n",
       "}\n",
       "\n",
       "label {\n",
       "  display: inline-block;\n",
       "  margin: 0 0 -1px;\n",
       "  padding: 15px 25px;\n",
       "  font-weight: 600;\n",
       "  text-align: center;\n",
       "  color: #787878;;\n",
       "  border: 1px solid transparent;\n",
       "}\n",
       "\n",
       "label:hover {\n",
       "  color: #888;\n",
       "  cursor: pointer;\n",
       "}\n",
       "\n",
       "input:checked + label {\n",
       "  color: #010b35;\n",
       "  border: 1px solid #ddd;\n",
       "  border-top:3px solid #f93933;\n",
       "  border-bottom: 1px solid #fff;\n",
       "}\n",
       "\n",
       "#tab1:checked ~ #content1,\n",
       "#tab2:checked ~ #content2,\n",
       "#tab3:checked ~ #content3,\n",
       "#tab4:checked ~ #content4,\n",
       "#tab5:checked ~ #content5,\n",
       "#tab6:checked ~ #content6,\n",
       "#tab7:checked ~ #content7,\n",
       "#tab8:checked ~ #content8,\n",
       "#tab9:checked ~ #content9,\n",
       "#tab10:checked ~ #content10,\n",
       "#tab11:checked ~ #content11,\n",
       "#tab12:checked ~ #content12,\n",
       "#tab13:checked ~ #content13,\n",
       "#tab_protocol_1:checked ~ #content_protocol_1, \n",
       "#tab_protocol_2:checked ~ #content_protocol_2, \n",
       "#tab_protocol_3:checked ~ #content_protocol_3,\n",
       "#tab_protocol_4:checked ~ #content_protocol_4\n",
       "{\n",
       "  display: block;\n",
       "}\n",
       "\n",
       "@media screen and (max-width: 650px) {\n",
       "  label {\n",
       "    font-size: 0;\n",
       "  }\n",
       "  label:before {\n",
       "    margin: 0;\n",
       "    font-size: 18px;\n",
       "  }\n",
       "}\n",
       "\n",
       "@media screen and (max-width: 400px) {\n",
       "  label {\n",
       "    padding: 15px;\n",
       "  }\n",
       "}\n",
       "\n",
       "section.tab pre {\n",
       "  background: #f6f6f6;\n",
       "  padding: 6px 12px;\n",
       "  margin: 0;\n",
       "  border-radius: 2px;\n",
       "  border: 1px solid #ccc;\n",
       "  color: #010b35;\n",
       "}\n",
       "section.tab pre code {\n",
       "  font-family: 'Source Sans Pro', sans-serif;\n",
       "  background: none;\n",
       "  color: #010b35;\n",
       "}\n",
       "section.tab table{width:100%;}\n",
       "section.tab table pre{\n",
       "    background: none;\n",
       "    padding: 6px 12px;\n",
       "    margin: 0;\n",
       "    border: 0;\n",
       "    border-radius: 0;\n",
       "}\n",
       "/* Notebook overrides */\n",
       ".rendered_html table {\n",
       "    margin-left: auto;\n",
       "    margin-right: auto;\n",
       "    border: 1px solid #ccc; \n",
       "    border-collapse: collapse;\n",
       "}\n",
       "\n",
       ".rendered_html td, .rendered_html th {\n",
       "    vertical-align: top;\n",
       "    padding: 10px;\n",
       "}\n",
       ".rendered_html tr, .rendered_html th, .rendered_html td {\n",
       "  border: 1px solid #ccc;\n",
       "  border-collapse: collapse;\n",
       "  margin: 1em 2em;\n",
       "}\n",
       "\n",
       ".rendered_html blockquote, .rendered_html pre {\n",
       "    margin: 2em 0;\n",
       "}\n",
       "\n",
       ".rendered_html code, .rendered_html pre {\n",
       "    color: #010b35;\n",
       "}\n",
       "\n",
       ".rendered_html h1, \n",
       ".rendered_html h2,\n",
       ".rendered_html h3,\n",
       ".rendered_html h4{\n",
       "  color:#010b35;\n",
       "}\n",
       "div.output_area img, \n",
       "div.output_area svg,\n",
       "div.output_subarea {\n",
       "    max-width: 100%;\n",
       "}\n",
       "\n",
       "#toc .rendered_html * + ol {\n",
       "    margin-top: 0;\n",
       "    margin-bottom: 1em;\n",
       "}\n",
       "</style>"
      ],
      "text/plain": [
       "<IPython.core.display.HTML object>"
      ]
     },
     "execution_count": 169,
     "metadata": {},
     "output_type": "execute_result"
    }
   ],
   "source": [
    "with open(\"code-tab.css\",'r') as style:\n",
    "    code_tab_style = \"<style>{}</style>\".format(style.read())\n",
    "\n",
    "HTML(code_tab_style)"
   ]
  },
  {
   "cell_type": "markdown",
   "metadata": {},
   "source": [
    "<h1>Table of Contents</h1>\n",
    " <ul class=\"toc-item\">\n",
    "    <li><strong class=\"toc-heading\"><a href=\"#Abstract\">Abstract</a></strong></li>\n",
    "    <li><strong class=\"toc-heading\"><a href=\"#introduction\">Introduction</a></strong></li>\n",
    "    <li><strong class=\"toc-heading\"><a href=\"#Terminology\">Terminology</a></strong>\n",
    "       <ul>\n",
    "          <li><a href=\"#Hadoop\">Hadoop</a></li>\n",
    "          <li><a href=\"#Hadoop-Streaming\">Hadoop Streaming</a></li>\n",
    "          <li><a href=\"#Partial-Sort\">Partial Sort</a></li>\n",
    "          <li><a href=\"#Total-Sort-(Unorderd-Partitions)\">Total Sort (Unorderd Partitions)</a></li>\n",
    "          <li><a href=\"#Total-Sort-(Ordered-Partitions)\">Total Sort (Ordered Partitions)</a></li>\n",
    "          <li><a href=\"#Secondary-Sorting\">Secondary Sorting</a></li>\n",
    "       </ul>\n",
    "    </li>\n",
    "    <li><strong class=\"toc-heading\"><a href=\"#Examples-of-Different-Sort-Types-(in-context-of-Hadoop-and-HDFS)\">Examples of Different Sort Types</a></strong></li>\n",
    "    <li><strong class=\"toc-heading\"><a href=\"#Anatomy-of-a-MapReduce-Job\">Anatomy of a MapReduce Job</a></strong>   \n",
    "    <li><strong class=\"toc-heading\"><a href=\"#Prepare-Dataset\">Prepare Dataset</a></strong>\n",
    "    <li><strong class=\"toc-heading\"><a href=\"#Section1\">Section 1 - Understanding Linux Sort</a></strong>\n",
    "        <ul>\n",
    "            <li><a href=\"#importance-of-unix-sort\">Importance of Unix Sort</a></li>\n",
    "            <li><a href=\"#unix-sort-overview\">Unix Sort Overview</a></li>\n",
    "            <li><a href=\"#--sort-examples-\">Sort Examples</a></li>\n",
    "        </ul>\n",
    "    </li>        \n",
    "    <li><strong class=\"toc-heading\"><a href=\"#Section2\">Section 2 - Hadoop Streaming</a></strong>\n",
    "        <ul>\n",
    "            <li><a href=\"#II.A.-Hadoop's-Default-Sorting-Behavior\">II.A. Hadoop's Default Sorting Behavior</a></li>\n",
    "            <li><a href=\"#Hadoop-streaming-parameters\">II.B. Hadoop Streaming parameters</a></li>\n",
    "            <ol>\n",
    "              <li><a href=\"#Configure-Hadoop-Streaming-0\"> Configure Hadoop Streaming: Prerequisites</a></li>\n",
    "              <li><a href=\"#Configure-Hadoop-Streaming-1\"> Configure Hadoop Streaming: Step 1</a></li>\n",
    "              <li><a href=\"#Configure-Hadoop-Streaming-2\"> Configure Hadoop Streaming: Step 2</a></li>\n",
    "              <li><a href=\"#Configure-Hadoop-Streaming-3\">Configure Hadoop Streaming: Step 3</a></li>\n",
    "              <li><a href=\"#Summary-of-Common-Practices\">Summary of Common Practices of Sorting Related Configuration</a></li>\n",
    "              <li><a href=\"#Side-by-side-Examples\">Side-by-side Examples: unix sort vs. hadoop streaming</a></li>\n",
    "            </ol>\n",
    "            <li>\n",
    "              <a href=\"#Hadoop-streaming-implementation\">II.C. Hadoop Streaming implementation</a>\n",
    "              <ol>\n",
    "                <li><a href=\"#single-reducer-hadoop-streaming\">II.C.1. Single reducer</a></li>\n",
    "                <li><a href=\"#multiple-reducer-hadoop-streaming\">II.C.2. Multiple reducers</a></li>\n",
    "                <li><a href=\"#Partitioning-in-Hadoop-streaming\">II.C.3. Multiple reducers with ordered partitions</a>\n",
    "              </ol>\n",
    "            </li>\n",
    "        </ul>\n",
    "   </li>\n",
    "   <li><strong class=\"toc-heading\"><a href=\"#Section4\">Section 3 - Sampling</a></strong>\n",
    "        <ul>\n",
    "            <li><a href=\"#randomsampling\">Random Sampling</a></li>\n",
    "            <li><a href=\"#reservoirsampling\">Reservoir Sampling</a></li>\n",
    "        </ul>\n",
    "    </li>\n",
    "    <li><strong class=\"toc-heading\"><a href=\"#Final-Remarks\">Final Remarks</a></strong></li>\n",
    "    <li><strong class=\"toc-heading\"><a href=\"#Reference\">Reference</a></strong></li>\n",
    " </ul>\n"
   ]
  },
  {
   "cell_type": "markdown",
   "metadata": {},
   "source": [
    "<h2><a name=\"Abstract\">Abstract</a></h2>\n",
    "<a href=\"#top\">Back to top</a>\n",
    "\n",
    "Sorting refers to arranging data in a particular format. A sorting algorithm specifies the way to arrange data in a particular order. Most common orders are numerical or lexicographical order. One important application of sorting lies in the fact that information search can be optimized to a very high level if data is stored in a sorted manner. Sorting is also used to represent data in more readable formats. Some of the examples of sorting in real life scenarios are the following.\n",
    "* Telephone Directory – A telephone directory keeps telephone numbers of people sorted on their names so that names can be searched.\n",
    "* Dictionary – A dictionary keeps words in alphabetical order so that searching of any word becomes easy.   \n",
    "\n",
    "Sorting at scale can be accomplished via MapReduce frameworks such as Hadoop Streaming which operates on data records consisting of key-value pairs. This framework, when run in default mode (by specifying either a mapper, a reducer, or both depending on what needs to be accomplished), will generate a partial order sort, whereby the reducer output will be a lot of (partition) files each of which contains key-value records that are sorted within each partition file based on the key. But there is no sort order between records in different partition files (see Figure 3). This is the default behavior for MapReduce frameworks. Sometimes it is desirable to have all data records sorted by a specified key (i.e., different to a partial order sort), across partition boundaries (see Figure 2). This can be accomplished relatively easily using Hadoop Streaming. But to do so one needs to be familiar with some core concepts and design patterns. This paper introduces the building blocks for total sorting in Hadoop Streaming. Numerous complete working examples are also provided to demonstrate the key design patterns in total order sorts. Python is used as the language for driving all three MapReduce frameworks.   \n",
    "\n",
    "<em>Keywords: total order sort at scale, sorting in Hadoop Streaming, MapReduce</em>\n"
   ]
  },
  {
   "cell_type": "markdown",
   "metadata": {},
   "source": [
    "<h2><a name=\"introduction\">INTRODUCTION</a></h2>\n",
    "<a href=\"#top\">Back to top</a>\n",
    "\n",
    "In this notebook we are going to demonstrate how to achieve Total Order Sort in Hadoop Streaming. Hadoop Streaming borrows heavily in terms of syntax and semantics from the Unix sort and cut commands, whereby they treat the output of the mapper as series of records, where each record can be interpreted as a collection of fields/tokens that are tab delimited by default. In this way, fields can be specified for the purposes of partitioning (routing), sometimes referred to as the primary key. The primary key is used for partitioning, and the combination of the primary and secondary keys (also specified by the programmer) is used for sorting.   \n",
    "\n",
    "We'll start by describing the Linux/Unix sort command (syntax and semantics) and build on that understanding to explain Total Order Sort in Hadoop Streaming. Partitioning is not just matter of specifying the fields to be used for routing the records to the reducers. We also need to consider how best to partition the data that has skewed distributions. To that end, we'll demonstrate how to partition the data via sampling and assigning custom keys.   \n",
    "\n",
    "At each step we are going to build on the previous steps, so it's important to view this notebook in order. For example, we'll cover key points for sorting with a single reducer in the Hadoop Streaming implementation, and these concepts will apply to the subsequent sections.\n"
   ]
  },
  {
   "cell_type": "markdown",
   "metadata": {},
   "source": [
    "<h1><a name=\"asdf\">Anatomy of a MapReduce Job</a></h1>\n",
    "<a href=\"#top\">Back to top</a>\n",
    "\n",
    "When tackling large scale data problems with modern computing frameworks such as MapReduce (Hadoop), one generally uses a divide-and-conquer strategy to divide these large problems into chunks of key-value records that can be processed by individual compute nodes (via mapper/reducer procedures). Upon importing the data into the Hadoop Distributed File System (HDFS), it is chunked in the following way: typically, there is a chunk for each input file. If the input file is too big (bigger than the HDFS block size) then we have two or more map chunks/splits associated to the same input file. (Please refer to the method getSplits() of the FileInputFormat class in Hadoop for more details.)   \n",
    "\n",
    "Once the data has been uploaded to HDFS, MapReduce jobs can be run on the data. First we’ll focus on a basic MapReduce/Hadoop job. The programmer provides map and reduce functions and, subsequently, the Application Master will launch one MapTask for each map split/chunk.   \n",
    "\n",
    "\n",
    "map(key1, value1) → list(key2, value2)\n",
    "\n",
    "reduce(key2, list(value2)) → list(key3, value3)\n",
    "\n",
    "First, the map() function receives a key-value pair input, (key1, value1). Then it outputs any number of key-value pairs, (key2, value2). Next, the reduce() function receives as input another key-value pair, (key2, list(value2)), and outputs any number of (key3, value3) pairs.   \n",
    "\n",
    "Now consider the following key-value pair, (key2, list(value2)), as an input for a reducer:\n",
    "\n",
    "list(value2) = (V1, V2, ..., Vn)\n",
    "\n",
    "where there is no ordering between reducer values (V1, V2, ..., Vn).\n",
    "\n",
    "The MapReduce framework performs the important tasks of routing, collating records with the same key, and transporting these records from the mapper to the reducer. These tasks are commonly referred to as the shuffle phase of a MapReduce job and are typically run in default mode (whereby the programmer does not customize the phase).   \n",
    "\n",
    "So, for completeness, a typical MapReduce job consists of three phases (that are similar in style for all MapReduce frameworks):\n",
    "\n",
    "\n",
    "__def MapReduceJob(Mapper, Shuffler, Reducer):__\n",
    "\n",
    "* Mapper (programmer writes)\n",
    "  * Mapper Init (setups a state for the mapper if required)\n",
    "  * map(key1, value1) → list(key2, value2)\n",
    "  * Mapper Final phase (tears down the map and outputs the mapper state to the stream if required)\n",
    " \n",
    "* Shuffle Phase(Partitioner=Key, Sort=(Key, alphanumeric increasing), Combiner=None)\n",
    "  * Where the default behaviors for the shuffle are as follows:\n",
    "    * Partitioner=Key, \n",
    "    * Sort=(Key, alphanumeric increasing), \n",
    "    * Combiner=None \n",
    "  * Partitioner: specify key (or subset of fields) used for routing each record to the reducer\n",
    "  * Sort specification: set of fields that make up the keys and the order required\n",
    "  * Combiner: DEFAULT: no combiner\n",
    "\n",
    "* Write the Reducer (programmer writes)\n",
    "  * Reducer Init phase (setups a state for the reducer if required)\n",
    "  * reduce(key2, list(value2)) → list(key3, value3)\n",
    "  * Reducer Final phase (tears down the reduce task and outputs the reduce state to HDFS if required)\n",
    "\n",
    "To perform a total order sort, one needs to override the default shuffle behavior by providing a custom partitioner, a custom sort specification (e.g., numeric/alphanumeric increasing/decreasing), and a combiner. Note that a combiner is not required for a total order sort but makes the MapReduce job more efficient."
   ]
  },
  {
   "cell_type": "code",
   "execution_count": 171,
   "metadata": {},
   "outputs": [
    {
     "data": {
      "image/png": "[encoded data removed]",
      "text/plain": [
       "<IPython.core.display.Image object>"
      ]
     },
     "execution_count": 171,
     "metadata": {},
     "output_type": "execute_result"
    }
   ],
   "source": [
    "Image('anatomy-of-MR.png')"
   ]
  },
  {
   "cell_type": "markdown",
   "metadata": {},
   "source": [
    "<em>Figure 1: Anatomy of a MapReduce Job from input data to output data via map, shuffle, and reduce steps.\n",
    "</em>"
   ]
  },
  {
   "cell_type": "markdown",
   "metadata": {},
   "source": [
    "<hr>\n",
    "<h2><a name=\"Terminology\">Terminology</a></h2>\n",
    "<a href=\"#top\">Back to top</a>\n",
    "\n",
    "\n",
    "<a name=\"Hadoop\"><strong>Apache Hadoop</strong></a> is a framework for running applications on large clusters built of commodity hardware. The Hadoop framework transparently provides applications both reliability and data motion. Hadoop implements a computational paradigm named Map/Reduce, where the application is divided into many small fragments of work, each of which may be executed or re-executed on any node in the cluster. In addition, it provides a distributed file system (HDFS) that stores data on the compute nodes, providing very high aggregate bandwidth across the cluster. Both MapReduce and the Hadoop Distributed File System are designed so that node failures are automatically handled by the Hadoop framework. \n",
    "http://wiki.apache.org/hadoop/\n",
    "\n",
    "<a name=\"Partial-Sort\"><strong>Partial Sort</strong></a> - The reducer output will be lot of (partition) files, each of which contains key-value records that are sorted within each partition file based on the key. This is the default behavior for MapReduce frameworks such as Hadoop.   \n",
    "\n",
    "<a name=\"Total-Sort-(Unorderd-Partitions)\"><strong>Total Sort (Unordered partitions)</strong></a> - Total sort refers to an ordering of all key-value pairs based upon a specified key. This total ordering will run across all output partition files unlike the partial sort described above. One caveat here is that partition files will need to be re-stacked to generate a total ordering (a small post-processing step that is required after the map-reduce job finishes).\n",
    "\n",
    "<a name=\"Total-Sort-(Ordered-Partitions)\"><strong>Total Sort (Ordered partitions)</strong></a> - Total sort where the partition file names are also assigned in order.\n",
    "\n",
    "<a name=\"Secondary-Sorting\"><strong>Secondary Sort</strong></a> - Secondary sorting refers to controlling the ordering of records based on the key and also using the values (or part of the value). That is, sorting can be done on two or more field values.\n"
   ]
  },
  {
   "cell_type": "markdown",
   "metadata": {},
   "source": [
    "<h2><a name=\"HadoopStreaming\">Hadoop Streaming</a></h2>\n",
    "<a href=\"#top\">Back to top</a>\n",
    "\n",
    "<a name=\"Hadoop-Streaming\"><strong>[Hadoop Streaming](http://hadoop.apache.org/docs/stable1/streaming.html#Hadoop+Streaming)</strong></a> is a utility that comes with the Hadoop distribution. The utility allows a user to create and run Map-Reduce jobs with any executable or script as the mapper and/or the reducer.\n",
    "\n"
   ]
  },
  {
   "cell_type": "code",
   "execution_count": 1,
   "metadata": {},
   "outputs": [],
   "source": [
    "$HADOOP_HOME/bin/hadoop  jar $HADOOP_HOME/hadoop-streaming.jar \\\n",
    "    -input myInputDirs \\\n",
    "    -output myOutputDir \\\n",
    "    -mapper /bin/cat \\\n",
    "    -reducer /bin/wc"
   ]
  },
  {
   "cell_type": "markdown",
   "metadata": {},
   "source": [
    "In the above example, both the mapper and the reducer are executables that read the input from stdin (line by line) and emit the output to stdout. The utility will create a MapReduce job, submit the job to an appropriate cluster, and monitor the progress of the job until it completes. When an executable is specified for mappers, each mapper task will launch the executable as a separate process when the mapper is initialized.    \n",
    "\n",
    "As the mapper task runs, it converts its inputs into lines and feeds the lines to the stdin of the process. In the meantime, the mapper collects the line oriented outputs from the stdout of the process and converts each line into a key/value pair, which is collected as the output of the mapper. By default, the prefix of a line up to the first tab character is the key and the rest of the line (excluding the tab character) is the value. If there is no tab character in the line, then the entire line is considered the key and the value is null. However, this can be customized, as discussed later.   \n",
    "\n",
    "When an executable is specified for reducers, each reducer task launches the executable as a separate process, and then the reducer is initialized. As the reducer task runs, it converts its input key/values pairs into lines and feeds the lines to the stdin of the process. In the meantime, the reducer collects the line-oriented outputs from the stdout of the process, converts each line into a key/value pair, which is collected as the output of the reducer. By default, the prefix of a line up to the first tab character is the key and the rest of the line (excluding the tab character) is the value. However, this can be customized, as discussed later.   \n",
    "\n",
    "This is the basis for the communication protocol between the MapReduce framework and the streaming mapper/reducer."
   ]
  },
  {
   "cell_type": "markdown",
   "metadata": {},
   "source": [
    "<h2><a name=\"Examples\">Examples of Different Sort Types (in context of Hadoop and HDFS)</a></h2>\n",
    "<a href=\"#top\">Back to top</a>\n",
    "\n",
    "\n",
    "Demonstrated below is an example dataset in text format on HDFS. It includes three partitions in an HDFS directory. Each partition stores records in the format of `{Integer} [TAB] {English Word}`.\n",
    "\n",
    "<pre>\n",
    "files in hdfs directory\n",
    "2016-07-20 22:04:56          0 _SUCCESS\n",
    "2016-07-20 22:04:45    2392650 part-00000\n",
    "2016-07-20 22:04:44    2368850 part-00001\n",
    "2016-07-20 22:04:45    2304038 part-00002\n",
    "</pre>\n",
    "<hr />\n",
    "\n",
    "\n",
    "<main>\n",
    "  \n",
    "  <input class=\"tab-state\" id=\"tab4\" type=\"radio\" name=\"sortExamples\" checked>\n",
    "  <label for=\"tab4\">Partial Sort</label>\n",
    "    \n",
    "  <input class=\"tab-state\" id=\"tab5\" type=\"radio\" name=\"sortExamples\">\n",
    "  <label for=\"tab5\">Total Sort (Unorderd Partitions)</label>\n",
    "    \n",
    "  <input class=\"tab-state\" id=\"tab6\" type=\"radio\" name=\"sortExamples\">\n",
    "  <label for=\"tab6\">Total Sort (Ordered Partitions)</label>\n",
    "    \n",
    "  <section id=\"content4\" class=\"tab\">\n",
    "\n",
    "<h3>Partial Sort</h3>\n",
    "<table>\n",
    "<tr>\n",
    "<td><pre>file: part-00000</pre></td>\n",
    "<td><pre>file: part-00001</pre></td>\n",
    "<td><pre>file: part-00002</pre></td>\n",
    "</tr>\n",
    "<tr>\n",
    "<td>\n",
    "<pre>\n",
    "<span style=\"color:red\">27</span>   driver\n",
    "<span style=\"color:red\">27</span>   creating\n",
    "<span style=\"color:red\">27</span>   experiements\n",
    "<span style=\"color:red\">19</span>   consists\n",
    "<span style=\"color:red\">19</span>   evaluate\n",
    "<span style=\"color:red\">17</span>   drivers\n",
    "<span style=\"color:red\">10</span>   clustering\n",
    " <span style=\"color:red\">9</span>   during\n",
    " <span style=\"color:red\">9</span>   change\n",
    " <span style=\"color:red\">7</span>   contour\n",
    "</pre>\n",
    "</td>\n",
    "<td>\n",
    "<pre>\n",
    "<span style=\"color:red\">30</span>   do\n",
    "<span style=\"color:red\">28</span>   dataset\n",
    "<span style=\"color:red\">15</span>   computing\n",
    "<span style=\"color:red\">15</span>   document\n",
    "<span style=\"color:red\">15</span>   computational\n",
    "<span style=\"color:red\">14</span>   center\n",
    " <span style=\"color:red\">5</span>   distributed\n",
    " <span style=\"color:red\">4</span>   develop\n",
    " <span style=\"color:red\">3</span>   different\n",
    " <span style=\"color:red\">2</span>   cluster\n",
    "</pre>\n",
    "</td>\n",
    "<td>\n",
    "<pre>\n",
    "<span style=\"color:red\">26</span>   descent\n",
    "<span style=\"color:red\">26</span>   def\n",
    "<span style=\"color:red\">25</span>   compute\n",
    "<span style=\"color:red\">24</span>   done\n",
    "<span style=\"color:red\">24</span>   code\n",
    "<span style=\"color:red\">23</span>   descent\n",
    "<span style=\"color:red\">22</span>   corresponding\n",
    "<span style=\"color:red\">13</span>   efficient\n",
    " <span style=\"color:red\">1</span>   cell\n",
    " <span style=\"color:red\">0</span>   current\n",
    "</pre>\n",
    "</td>\n",
    "</tr>\n",
    "<caption align='bottom'>Keys are assigned to buckets without any ordering. Keys are sorted within each bucket (the key is the the number in the first column rendered in red).</caption>\n",
    "</table>\n",
    "\n",
    "</section>\n",
    "<section id=\"content5\" class=\"tab\">\n",
    "\n",
    "\n",
    "<h3>Total Sort (Unorderd Partitions)</h3>\n",
    "<table>\n",
    "<tr>\n",
    "<td><pre>file: part-00000</pre></td>\n",
    "<td><pre>file: part-00001</pre></td>\n",
    "<td><pre>file: part-00002</pre></td>\n",
    "</tr>\n",
    "<tr>\n",
    "<td>\n",
    "<pre>\n",
    "<span style=\"color:red\">19</span> \tconsists\n",
    "<span style=\"color:red\">19</span> \tevaluate\n",
    "<span style=\"color:red\">17</span> \tdrivers\n",
    "<span style=\"color:red\">15</span> \tcomputing\n",
    "<span style=\"color:red\">15</span> \tdocument\n",
    "<span style=\"color:red\">15</span> \tcomputational\n",
    "<span style=\"color:red\">14</span> \tcenter\n",
    "<span style=\"color:red\">13</span> \tefficient\n",
    "</pre>\n",
    "</td>\n",
    "<td>\n",
    "<pre>\n",
    "<span style=\"color:red\">10</span>  clustering\n",
    "<span style=\"color:red\">9</span>   during\n",
    "<span style=\"color:red\">9</span>   change\n",
    "<span style=\"color:red\">7</span>   contour\n",
    "<span style=\"color:red\">5</span>   distributed\n",
    "<span style=\"color:red\">4</span>   develop\n",
    "<span style=\"color:red\">3</span>   different\n",
    "<span style=\"color:red\">2</span>   cluster\n",
    "<span style=\"color:red\">1</span>   cell\n",
    "<span style=\"color:red\">0</span>   current\n",
    "</pre>\n",
    "</td>\n",
    "<td>\n",
    "<pre>\n",
    "<span style=\"color:red\">30</span> \tdo\n",
    "<span style=\"color:red\">28</span> \tdataset\n",
    "<span style=\"color:red\">27</span> \tdriver\n",
    "<span style=\"color:red\">27</span> \tcreating\n",
    "<span style=\"color:red\">27</span> \texperiements\n",
    "<span style=\"color:red\">26</span> \tdescent\n",
    "<span style=\"color:red\">26</span> \tdef\n",
    "<span style=\"color:red\">25</span> \tcompute\n",
    "<span style=\"color:red\">24</span> \tdone\n",
    "<span style=\"color:red\">24</span> \tcode\n",
    "<span style=\"color:red\">23</span> \tdescent\n",
    "<span style=\"color:red\">22</span> \tcorresponding\n",
    "</pre>\n",
    "</td>\n",
    "</tr>\n",
    "<caption align='bottom'>Keys are assigned to buckets according to their numeric value. The result is that all keys between 20-30 end up in one bucket, keys between 10-20 end up in another bucket, and keys 0-10 end up in another bucket. Keys are sorted within each bucket. Partitions are not assigned in sorted order.</caption>\n",
    "</table>\n",
    "\n",
    "</section>\n",
    "<section id=\"content6\" class=\"tab\">\n",
    "\n",
    "<h3>Total Sort (Ordered Partitions)</h3>\n",
    "<table>\n",
    "<tr>\n",
    "<td><pre>file: part-00000</pre></td>\n",
    "<td><pre>file: part-00001</pre></td>\n",
    "<td><pre>file: part-00002</pre></td>\n",
    "</tr>\n",
    "<tr>\n",
    "<td>\n",
    "<pre>\n",
    "<span style=\"color:red\">30</span> \tdo\n",
    "<span style=\"color:red\">28</span> \tdataset\n",
    "<span style=\"color:red\">27</span> \tcreating\n",
    "<span style=\"color:red\">27</span> \tdriver\n",
    "<span style=\"color:red\">27</span> \texperiements\n",
    "<span style=\"color:red\">26</span> \tdef\n",
    "<span style=\"color:red\">26</span> \tdescent\n",
    "<span style=\"color:red\">25</span> \tcompute\n",
    "<span style=\"color:red\">24</span> \tcode\n",
    "<span style=\"color:red\">24</span> \tdone\n",
    "<span style=\"color:red\">23</span> \tdescent\n",
    "<span style=\"color:red\">22</span> \tcorresponding\n",
    "</pre>\n",
    "</td>\n",
    "<td>\n",
    "<pre>\n",
    "<span style=\"color:red\">19</span> \tevaluate\n",
    "<span style=\"color:red\">19</span> \tconsists\n",
    "<span style=\"color:red\">17</span> \tdrivers\n",
    "<span style=\"color:red\">15</span> \tdocument\n",
    "<span style=\"color:red\">15</span> \tcomputing\n",
    "<span style=\"color:red\">15</span> \tcomputational\n",
    "<span style=\"color:red\">14</span> \tcenter\n",
    "<span style=\"color:red\">13</span> \tefficient\n",
    "<span style=\"color:red\">10</span> \tclustering\n",
    "</pre>\n",
    "</td>\n",
    "<td>\n",
    "<pre>\n",
    "<span style=\"color:red\">9</span> \tduring\n",
    "<span style=\"color:red\">9</span> \tchange\n",
    "<span style=\"color:red\">7</span> \tcontour\n",
    "<span style=\"color:red\">5</span> \tdistributed\n",
    "<span style=\"color:red\">4</span> \tdevelop\n",
    "<span style=\"color:red\">3</span> \tdifferent\n",
    "<span style=\"color:red\">2</span> \tcluster\n",
    "<span style=\"color:red\">1</span> \tcell\n",
    "<span style=\"color:red\">0</span> \tcurrent\n",
    "</pre>\n",
    "</td>\n",
    "</tr>\n",
    "<caption align='bottom'>Keys are assigned to buckets according to their numeric value. The result is that all keys between 20-30 end up in one bucket, keys between 10-20 end up in another bucket, and keys 0-10 end up in another bucket. Keys are sorted within each bucket. Here, partitions are assigned in sorted order, such that keys between 20-30 end up in the first bucket, keys between 10-20 end up in the second bucket, and keys 0-10 end up in the third bucket. We use the term buckets and partitions interchageably.</caption>\n",
    "</table>\n",
    "</section>\n",
    "</main>"
   ]
  },
  {
   "cell_type": "markdown",
   "metadata": {},
   "source": [
    "# Prepare Dataset\n",
    "<a href=\"#top\">Back to top</a>\n",
    "\n",
    "Here we generate the data which we will use throughout the rest of this notebook. This is a toy dataset with 30 records, and consists of two fields in each record, separated by a tab character. The first field contains random integers between 1 and 30 (a hypothetical word count), and the second field contains English words. <strong>The goal is to sort the data by word count from highest to lowest.\n",
    "</strong>"
   ]
  },
  {
   "cell_type": "code",
   "execution_count": 296,
   "metadata": {},
   "outputs": [
    {
     "name": "stdout",
     "output_type": "stream",
     "text": [
      "Overwriting generate_numbers.py\n"
     ]
    }
   ],
   "source": [
    "%%writefile generate_numbers.py\n",
    "#!/usr/bin/python\n",
    "words = [\"cell\",\"center\",\"change\",\"cluster\",\"clustering\",\"code\",\"computational\",\"compute\",\"computing\",\"consists\",\\\n",
    "         \"contour\",\"corresponding\",\"creating\",\"current\",\"dataset\",\"def\",\"descent\",\"descent\",\"develop\",\"different\",\\\n",
    "         \"distributed\",\"do\",\"document\",\"done\",\"driver\",\"drivers\",\"during\",\"efficient\",\"evaluate\",\"experiements\"]\n",
    "import random\n",
    "N = 30\n",
    "for n in range(N):\n",
    "    print random.randint(0,N),\"\\t\",words[n]"
   ]
  },
  {
   "cell_type": "code",
   "execution_count": 297,
   "metadata": {},
   "outputs": [
    {
     "name": "stdout",
     "output_type": "stream",
     "text": [
      "30 generate_numbers.output\n"
     ]
    }
   ],
   "source": [
    "# give the python file exacutable permissions, write the file, and inspect number of lines\n",
    "!chmod +x generate_numbers.py;\n",
    "!./generate_numbers.py > generate_numbers.output\n",
    "!wc -l generate_numbers.output"
   ]
  },
  {
   "cell_type": "code",
   "execution_count": 298,
   "metadata": {},
   "outputs": [
    {
     "name": "stdout",
     "output_type": "stream",
     "text": [
      "11 \tcell\n",
      "5 \tcenter\n",
      "14 \tchange\n",
      "24 \tcluster\n",
      "12 \tclustering\n",
      "27 \tcode\n",
      "19 \tcomputational\n",
      "18 \tcompute\n",
      "21 \tcomputing\n",
      "20 \tconsists\n",
      "29 \tcontour\n",
      "10 \tcorresponding\n",
      "0 \tcreating\n",
      "12 \tcurrent\n",
      "14 \tdataset\n",
      "9 \tdef\n",
      "2 \tdescent\n",
      "12 \tdescent\n",
      "26 \tdevelop\n",
      "8 \tdifferent\n",
      "6 \tdistributed\n",
      "3 \tdo\n",
      "23 \tdocument\n",
      "6 \tdone\n",
      "21 \tdriver\n",
      "23 \tdrivers\n",
      "11 \tduring\n",
      "3 \tefficient\n",
      "28 \tevaluate\n",
      "1 \texperiements\n"
     ]
    }
   ],
   "source": [
    "# view the raw dataset\n",
    "!cat generate_numbers.output"
   ]
  },
  {
   "cell_type": "markdown",
   "metadata": {},
   "source": [
    "<h1><a name=\"Section1\">Section I - Understanding Unix Sort</a></h1>\n",
    "<a href=\"#top\">Back to top</a>"
   ]
  },
  {
   "cell_type": "markdown",
   "metadata": {},
   "source": [
    "<h2><a name=\"importance-of-unix-sort\">Importance of Unix Sort</a></h2>\n",
    "<a href=\"#top\">Back to top</a>  | <a href=\"#Section1\">Back to Section I</a>   \n",
    "\n",
    "Sort is a simple and very useful command found in Unix systems. It rearranges lines of text numerically and/or alphabetically. Hadoop Streaming's KeyBasedComparator is modeled after Unix sort, and utilizes command line options which are the same as Unix sort command line options."
   ]
  },
  {
   "cell_type": "markdown",
   "metadata": {},
   "source": [
    "<h3><a name=\"unix-sort-overview\">Unix Sort Overview</a></h3>\n",
    "<a href=\"#top\">Back to top</a>  | <a href=\"#Section1\">Back to Section I</a>\n",
    "\n",
    "```\n",
    "# sort syntax\n",
    "sort [OPTION]... [FILE]...\n",
    "```\n",
    "\n",
    "Sort treats a single line of text as a single datum to be sorted. It operates on fields (by default, the whole line is considered a field). It uses tabs as the delimiter by default (which can be configured with -t option), and splits a (non-empty) line into one or more parts, whereby each part is considered a field. Each field is identified by its index (POS).   \n",
    "\n",
    "The most important configuration option is perhaps -k or --key.\n",
    "Start a key at POS1 (origin 1), end it at POS2 (default end of line):\n",
    "\n",
    "```\n",
    "-k, --key=POS1[,POS2]\n",
    "```\n",
    "\n",
    "For example, -k1 (without ending POS), produces a key that is the whole line, and -k1,1 produces a key that is the first field. Multiple -k options can be supplied, and applied left to right. Sort keys can be tricky sometimes, and should be treated with care. For example:\n",
    "\n",
    "\n",
    "```\n",
    "sort –k1 –k2,2n\n",
    "``` \n",
    "\n",
    "Will not work properly, as -k1 uses the whole line as key, and trumps -k2,2n.   \n",
    "\n",
    "Another example:\n",
    "\n",
    "```\n",
    "sort -k2 -k3\n",
    "```\n",
    "\n",
    "This is redundant: it's equivalent to sort -k2.   \n",
    "\n",
    "A good practice for supplying multiple sort keys is to make sure they are non-overlapping. \n",
    "\n",
    "Other commonly used flags/options are: -n, which sorts the keys numerically, and -r which reverses the sort order.\n",
    "\n"
   ]
  },
  {
   "cell_type": "markdown",
   "metadata": {},
   "source": [
    "<h2><a name=\"sort-examples\">  <span style=\"font-family:courier;font-weight:normal;\">sort</span> examples </a></h2>\n",
    "<a href=\"#top\">Back to top</a>  | <a href=\"#Section1\">Back to Section I</a>\n",
    "\n",
    "(Source: http://www.theunixschool.com/2012/08/linux-sort-command-examples.html)"
   ]
  },
  {
   "cell_type": "code",
   "execution_count": 299,
   "metadata": {},
   "outputs": [
    {
     "name": "stdout",
     "output_type": "stream",
     "text": [
      "Overwriting unix-sort-example.txt\n"
     ]
    }
   ],
   "source": [
    "%%writefile unix-sort-example.txt\n",
    "Unix,30\n",
    "Solaris,10\n",
    "Linux,25\n",
    "Linux,20\n",
    "HPUX,100\n",
    "AIX,25"
   ]
  },
  {
   "cell_type": "markdown",
   "metadata": {},
   "source": [
    "<main>\n",
    "  \n",
    "  <input class=\"tab-state\" id=\"tab7\" type=\"radio\" name=\"moreSortExamples\" checked>\n",
    "  <label for=\"tab7\">sort -t\",\" -k1,1</label>\n",
    "    \n",
    "  <input class=\"tab-state\" id=\"tab8\" type=\"radio\" name=\"moreSortExamples\">\n",
    "  <label for=\"tab8\">sort -t\",\" -k2,2nr</label>\n",
    "    \n",
    "  <input class=\"tab-state\" id=\"tab9\" type=\"radio\" name=\"moreSortExamples\">\n",
    "  <label for=\"tab9\">sort -t\",\" -k1,1 -k2,2nr</label>\n",
    "    \n",
    "  <section id=\"content7\" class=\"tab\">\n",
    "\n",
    "\n",
    "Sort by field 1 (default alphabetically), deliminator \",\"    \n",
    "\n",
    "\n",
    "<table>\n",
    "<tr>\n",
    "<td><pre>cat unix-sort-example.txt</pre></td>\n",
    "<td><pre>sort -t\",\" -k1,1 unix-sort-example.txt</pre></td>\n",
    "</tr>\n",
    "<tr>\n",
    "<td><pre>\n",
    "Unix,30\n",
    "Solaris,10\n",
    "Linux,25\n",
    "Linux,20\n",
    "HPUX,100\n",
    "AIX,25\n",
    "</pre></td>\n",
    "<td><pre>\n",
    "AIX,25\n",
    "HPUX,100\n",
    "Linux,20\n",
    "Linux,25\n",
    "Solaris,10\n",
    "Unix,30\n",
    "</pre></td>\n",
    "</tr>\n",
    "</table>\n",
    "\n",
    "</section>\n",
    "<section id=\"content8\" class=\"tab\">\n",
    "\n",
    "Sort by field 2 numerically reverse, deliminator \",\"   \n",
    "\n",
    "<table>\n",
    "<tr>\n",
    "<td><pre>cat unix-sort-example.txt</pre></td>\n",
    "<td><pre>sort -t\",\" -k2,2nr  unix-sort-example.txt</pre></td>\n",
    "</tr>\n",
    "<tr>\n",
    "<td><pre>\n",
    "Unix,30\n",
    "Solaris,10\n",
    "Linux,25\n",
    "Linux,20\n",
    "HPUX,100\n",
    "AIX,25\n",
    "</pre></td>\n",
    "<td><pre>\n",
    "HPUX,100\n",
    "Unix,30\n",
    "AIX,25\n",
    "Linux,25\n",
    "Linux,20\n",
    "Solaris,10\n",
    "</pre></td>\n",
    "</tr>\n",
    "</table>\n",
    "\n",
    "</section>\n",
    "<section id=\"content9\" class=\"tab\">\n",
    "\n",
    "Sort by field 1 alphabetically first, then by field 2 numeric reverse   \n",
    "\n",
    "<table>\n",
    "<tr>\n",
    "<td><pre>cat unix-sort-example.txt</pre></td>\n",
    "<td><pre>sort -t\",\" -k1,1 -k2,2nr  unix-sort-example.txt</pre></td>\n",
    "</tr>\n",
    "<tr>\n",
    "<td><pre>\n",
    "Unix,30\n",
    "Solaris,10\n",
    "Linux,25\n",
    "Linux,20\n",
    "HPUX,100\n",
    "AIX,25\n",
    "</pre></td>\n",
    "<td><pre>\n",
    "AIX,25\n",
    "HPUX,100\n",
    "Linux,25\n",
    "Linux,20\n",
    "Solaris,10\n",
    "Unix,30\n",
    "</pre></td>\n",
    "</tr>\n",
    "</table>\n",
    "\n",
    "</section>\n",
    "</main>"
   ]
  },
  {
   "cell_type": "markdown",
   "metadata": {},
   "source": [
    "<h1><a name=\"Section2\">Section II - Hadoop Streaming</a></h1>\n",
    "<a href=\"#top\">Back to top</a>   \n",
    "<ul class=\"toc-item\">\n",
    "    <li><a href=\"#II.A.-Hadoop's-Default-Sorting-Behavior\">II.A. Hadoop's Default Sorting Behavior</a></li>\n",
    "    <li><a href=\"#Hadoop-streaming-parameters\">II.B. Hadoop Streaming parameters</a></li>\n",
    "    <ul>\n",
    "      <li><a href=\"#Configure-Hadoop-Streaming-0\"> Configure Hadoop Streaming: Prerequisites</a></li>\n",
    "      <li><a href=\"#Configure-Hadoop-Streaming-1\"> Configure Hadoop Streaming: Step 1</a></li>\n",
    "      <li><a href=\"#Configure-Hadoop-Streaming-2\"> Configure Hadoop Streaming: Step 2</a></li>\n",
    "      <li><a href=\"#Configure-Hadoop-Streaming-3\">Configure Hadoop Streaming: Step 3</a></li>\n",
    "      <li><a href=\"#Summary-of-Common-Practices\">Summary of Common Practices of Sorting Related Configuration</a></li>\n",
    "      <li><a href=\"#Side-by-side-Examples\">Side-by-side Examples: unix sort vs. hadoop streaming</a></li>\n",
    "    </ul>\n",
    "    </li>\n",
    "    <li>\n",
    "      <a href=\"#Hadoop-streaming-implementation\">II.C. Hadoop Streaming implementation</a>\n",
    "      <ul>\n",
    "        <li><a href=\"#single-reducer-hadoop-streaming\">II.C.1. Hadoop Streaming Implementation - single reducer</a></li>\n",
    "        <li><a href=\"#multiple-reducer-hadoop-streaming\">II.C.2. Hadoop Streaming Implementation - multiple reducers</a>\n",
    "          <ul>\n",
    "            <li><a href=\"#What's-new:-\">What's New</a></li>\n",
    "            <li><a href=\"#Multiple-Reducer-Overview\">Multiple Reducer Overview</a></li>\n",
    "            <li><a href=\"#Introductory-Example:\">Introductory Example</a></li>\n",
    "            <li><a href=\"#Implementation-Walkthrough\">Implementation Walkthrough</a></li>\n",
    "            \n",
    "          </ul>\n",
    "        </li>\n",
    "      </ul>\n",
    "    </li>\n",
    "</ul>"
   ]
  },
  {
   "cell_type": "markdown",
   "metadata": {},
   "source": [
    "<h2><a name=\"Hadoop's-Default-Sorting-Behavior\">II.A. Hadoop's Default Sorting Behavior</a></h2>\n",
    "<a href=\"#top\">Back to top</a> | <a href=\"#Section2\">Back to Section II</a> \n",
    "<h4>Key points:</h4> \n",
    "<ul>\n",
    "<li>By default, Hadoop performs a partial sort on mapper output keys, i.e. within each partition keys are sorted.\n",
    "</li>\n",
    "<li>By default, keys are sorted as strings.\n",
    "    <ul>\n",
    "        <li>When processing a mapper output record, first the partitioner decides which partition the record should be sent to.</li>\n",
    "        <li>In shuffle and sort stage, keys within a partition are sorted. </li>\n",
    "        </ul>\n",
    "</li>\n",
    "<li>If there is only one partition, mapper output keys will be sorted in total order</li>\n",
    "<li>The partition index of a given key from mapper outputs is determined by the partitioner, the  default partitioner is HashPartitioner which relies on Java’s hashCode function to compute an integer hash for the key. The partition index is derived next by hash modulo number of reducers.\n",
    "</li>\n",
    "</ul>"
   ]
  },
  {
   "cell_type": "markdown",
   "metadata": {},
   "source": [
    "<h2><a name=\"Hadoop-streaming-parameters\">II.B. Hadoop Streaming parameters</a></h2>\n",
    "<a href=\"#top\">Back to top</a> | <a href=\"#Section2\">Back to Section II</a> \n",
    "\n",
    "Hadoop streaming can be further fine-grain controlled through the command line options below. Through these, we can fine-tune the Hadoop framework to better understand line-oriented record structure, and achieve the versatility of single-machine Unix sort, but in a distributed and efficient manner.\n",
    "\n",
    "\n",
    "```\n",
    "stream.num.map.output.key.fields\n",
    "stream.map.output.field.separator\n",
    "mapreduce.partition.keypartitioner.options\n",
    "KeyFieldBasedComparator\n",
    "keycomparator.options\n",
    "partitioner org.apache.hadoop.mapred.lib.KeyFieldBasedPartitioner\n",
    "```\n",
    "In a sorting task, Hadoop Streaming provides the same interface as Unix sort. Both consume a stream of lines of text, and produce a permutation of input records, based on one or more sort keys extracted from each line of input. Without customizing its sorting and partitioning, Hadoop Streaming treats implicitly each input line as a record consisting of a single key and value, separated by a \"tab\" character.   \n",
    "\n",
    "Just like the various options Unix sort offers, Hadoop Streaming can be customized to use multiple fields for sorting, sort records by numeric order or keys and sort in reverse order.   \n",
    "\n",
    "The following table provides an overview of relationships between Hadoop Streaming sorting and Unix sort:\n",
    "\n",
    "<table width=\"100%\">\n",
    "<tr>\n",
    "    <th></th>\n",
    "    <th>Unix <span class=\"code\">sort</span></th>\n",
    "    <th>Hadoop streaming</th>\n",
    "</tr>\n",
    "<tr>\n",
    "    <td>Key Field Separator</td>\n",
    "    <td class=\"code\">-t</td>\n",
    "    <td class=\"code\">-D stream.map.output.field.separator</td>\n",
    "</tr>\n",
    "<tr>\n",
    "    <td>Number of Key Fields</td>\n",
    "    <td>Not Required</td>\n",
    "    <td class=\"code\">-D stream.num.map.output.key.fields</td>\n",
    "</tr>\n",
    "<tr>\n",
    "    <td>Key Range</td>\n",
    "    <td class=\"code\">-k, --key=POS1[,POS2]</td>\n",
    "    <td><span class=\"code\">-D mapreduce.partition.keycomparator.options</span>   (same syntax as unix sort)</td>\n",
    "</tr>\n",
    "<tr>\n",
    "    <td>Numeric Sort</td>\n",
    "    <td class=\"code\">-n, --numeric-sort</td>\n",
    "    <td><span class=\"code\">-D mapreduce.partition.keycomparator.options</span>   (same syntax as unix sort)</td>\n",
    "</tr>\n",
    "<tr>\n",
    "    <td>Reverse Order</td>\n",
    "    <td class=\"code\">-r --reverse</td>\n",
    "    <td><span class=\"code\">-D mapreduce.partition.keycomparator.options</span>   (same syntax as unix sort)</td>\n",
    "</tr>\n",
    "<tr>\n",
    "    <td>Partitioner Class</td>\n",
    "    <td>Not Applicable</td>\n",
    "    <td class=\"code\">-partitioner org.apache.hadoop.mapred.lib.KeyFieldBasedPartitioner</td>\n",
    "</tr>\n",
    "<tr>\n",
    "    <td>Comparator Class</td>\n",
    "    <td>Not Applicable</td>\n",
    "    <td class=\"code\">-D mapreduce.job.output.key.comparator.class</td>\n",
    "</tr>\n",
    "<tr>\n",
    "    <td>Partition Key Fields</td>\n",
    "    <td>Not Applicable</td>\n",
    "    <td class=\"code\">-D mapreduce.partition.keypartitioner.options</td>\n",
    "</tr>\n",
    "</table>\n",
    "\n",
    "\n",
    "Therefore, given a distributed sorting problem, it is always helpful to start with a non-scalable solution that can be provided by Unix sort and work out the required Hadoop Streaming configurations from there.\n",
    "\n",
    "\n",
    "<h3><a name=\"Configure-Hadoop-Streaming-0\"> Configure Hadoop Streaming: Prerequisites</a></h3>\n",
    "<a href=\"#top\">Back to top</a> | <a href=\"#Section2\">Back to Section II</a>    \n",
    "\n",
    "```\n",
    "  -D mapreduce.job.output.key.comparator.class=org.apache.hadoop.mapreduce.lib.partition.KeyFieldBasedComparator \\\n",
    "  -partitioner org.apache.hadoop.mapred.lib.KeyFieldBasedPartitioner        \n",
    "```\n",
    "\n",
    "These two options instruct Hadoop Streaming to use two specific Hadoop Java library classes: KeyFieldBasedComparator and KeyFieldBasedPartitioner. They come in standard Hadoop distribution, and provide the required machinery.\n",
    "\n",
    "\n",
    "<h3><a name=\"Configure-Hadoop-Streaming-1\"> Configure Hadoop Streaming: Step 1</a></h3>\n",
    "<a href=\"#top\">Back to top</a> | <a href=\"#Section2\">Back to Section II</a>     \n",
    "\n",
    "Specify number of key fields and key field separator\n",
    "\n",
    "```\n",
    "  -D stream.num.map.output.key.fields=4 \\\n",
    "  -D mapreduce.map.output.key.field.separator=.\n",
    "```\n",
    "\n",
    "In Unix sort when input lines use a non-tab delimiter, we need to supply the -t separator option. Similarly in Hadoop Streaming, we need to specify the character to use as key separators. Common options include: comma\",\", period \".\", and space \" \".   \n",
    "\n",
    "One additional hint to Hadoop is the number of key fields, which is not required for Unix sort. This helps Hadoop Streaming to only parse the relevant parts of input lines, as in the end only keys are sorted (not values) – therefore, Hadoop can avoid performing expensive parsing and sorting on value parts of input line records.\n",
    "\n",
    "\n",
    "<h3><a name=\"Configure-Hadoop-Streaming-2\">Configure Hadoop Streaming: Step 2</a></h3>\n",
    "<a href=\"#top\">Back to top</a> | <a href=\"#Section2\">Back to Section II</a>     \n",
    "\n",
    "Specify sorting options\n",
    "\n",
    "```\n",
    "  -D mapreduce.partition.keycomparator.options=-k2,2nr \n",
    "```\n",
    "\n",
    "This part is very straightforward. Whatever one would do with Unix sort (eg. -k1,1 -k3,4nr), just mirror it for Hadoop Streaming. However it is crucial to remember that Hadoop only uses KeyFieldBasedComparator to sort records within partitions. Therefore, this step only helps achieve partial sort.\n",
    "\n",
    "<h3><a name=\"Configure-Hadoop-Streaming-3\">Configure Hadoop Streaming: Step 3</a></h3>\n",
    "<a href=\"#top\">Back to top</a> | <a href=\"#Section2\">Back to Section II</a>     \n",
    "\n",
    "\n",
    "Specify partition key field\n",
    "\n",
    "```\n",
    "  -D mapreduce.partition.keypartitioner.options=-k1,1\n",
    "```\n",
    "\n",
    "In this step, we need to specify which key field to use for partitioning. There's no equivalent in Unix sort. One critical detail to keep in mind is that, even though Hadoop Streaming uses Unix sort --key option's syntax for mapreduce.partition.keypartitioner.options., no sorting will actually be performed. It only uses expressions such as -k2,2nr for key extraction; the nr flags will be ignored.   \n",
    "\n",
    "In later sections we will discuss in detail how to incorporate sorting into the partitioner by custom partition key construction.\n"
   ]
  },
  {
   "cell_type": "markdown",
   "metadata": {},
   "source": [
    "<h2><a name=\"Summary-of-Common-Practices\">Summary of Common Practices for Sorting Related Configuration</a></h2>\n",
    "<a href=\"#top\">Back to top</a> | <a href=\"#Section2\">Back to Section II</a>    \n",
    "\n",
    "<!-- HTML generated using hilite.me --><div style=\"background: #ffffff; overflow:auto;width:auto;border:0;border-width:.0;padding:.0;\"><pre style=\"margin: 0; line-height: 125%\">  \n",
    "  -D mapreduce.job.output.key.comparator.class=org.apache.hadoop.mapreduce.lib.partition.KeyFieldBasedComparator \\\n",
    "  -D stream.num.map.output.key.fields=<span style=\"color: #0000FF\">4</span> \\\n",
    "  -D map.output.key.field.separator=. \\\n",
    "  -D mapreduce.partition.keypartitioner.options=<span style=\"color: #0000FF\">-k1,2</span> \\\n",
    "  -D mapreduce.job.reduces=<span style=\"color: #0000FF\">12</span> \\\n",
    "  -partitioner org.apache.hadoop.mapred.lib.KeyFieldBasedPartitioner\n",
    "</pre></div>\n",
    "\n",
    "\n",
    "At bare minimum, we typically need to specify:\n",
    "\n",
    "1. Use KeyFieldBasedPartitioner\n",
    "2. Use KeyFieldBasedComparator\n",
    "3. Key field separator (can be omitted if TAB is used as separator)\n",
    "4. Number of key fields\n",
    "5. Key field separator again for mapper (under a different config option)\n",
    "6. Partitioner options (Unix sort syntax)\n",
    "7. Number of reducer jobs\n",
    "\n",
    "See [hadoop streaming official documentation](https://hadoop.apache.org/docs/r2.7.2/hadoop-streaming/HadoopStreaming.html) for more information (hadoop version = 2.7.2).\n",
    "\n",
    "\n",
    "<h3><a name=\"Side-by-side-Examples\">Side-by-side Examples: Unix sort vs. Hadoop Streaming</a></h3>\n",
    "<a href=\"#top\">Back to top</a> | <a href=\"#Section2\">Back to Section II</a> \n",
    "\n",
    "<table width=\"100%\">\n",
    "<tbody>\n",
    "\n",
    "<tr>\n",
    "    <td width=\"20%\">Unix sort</td>\n",
    "    <td>Hadoop Streaming</td>\n",
    "</tr>\n",
    "\n",
    "\n",
    "<tr>\n",
    "<td>\n",
    "    <pre>sort -t\",\" -k1,1</pre>\n",
    "</td>\n",
    "<td>\n",
    "<pre>\n",
    "-D mapreduce.job.output.key.comparator.class=\\\n",
    "  org.apache.hadoop.mapreduce.lib.partition.KeyFieldBasedComparator \\\n",
    "-D stream.num.map.output.key.fields=2 \\\n",
    "-D stream.map.output.field.separator=\",\" \\\n",
    "-D mapreduce.partition.keypartitioner.options=-k1,1\\\n",
    "-partitioner org.apache.hadoop.mapred.lib.KeyFieldBasedPartitioner\\\n",
    "-D mapreduce.job.reduces=1\n",
    "</pre>\n",
    "</td>\n",
    "</tr>\n",
    "\n",
    "<tr>\n",
    "<td>\n",
    "<pre>sort -k1,1 -k2,3nr</pre>\n",
    "</td>\n",
    "<td>\n",
    "<pre>\n",
    "-D mapreduce.job.output.key.comparator.class=\\\n",
    "  org.apache.hadoop.mapreduce.lib.partition.KeyFieldBasedComparator \\\n",
    "-D stream.num.map.output.key.fields=3 \\\n",
    "-D mapreduce.partition.keypartitioner.options=\"-k1,1 -k2,3nr\"\\\n",
    "-partitioner org.apache.hadoop.mapred.lib.KeyFieldBasedPartitioner\\\n",
    "-D mapreduce.job.reduces=1\n",
    "</pre>\n",
    "</td>\n",
    "</tr>\n",
    "\n",
    "\n",
    "</tbody>\n",
    "</table>\n",
    "\n",
    "Note: in both examples we use only a single reduce job, which makes hadoop's partial sort equivalent to a total sort."
   ]
  },
  {
   "cell_type": "markdown",
   "metadata": {},
   "source": [
    "<h2><a name=\"Hadoop-streaming-implementation\">II.C. Hadoop Streaming implementation</a></h2>\n",
    "<a href=\"#top\">Back to top</a> | <a href=\"#Section2\">Back to Section II</a> \n",
    "\n",
    "You will need to install, configure, and start Hadoop. Brief instructions follow, but detailed instructions are beyond the scope of this notebook.\n"
   ]
  },
  {
   "cell_type": "markdown",
   "metadata": {},
   "source": [
    "<h3><a name=\"StartHadoop\">Start Hadoop</a></h3>\n",
    "<a href=\"#top\">Back to top</a> | <a href=\"#Section2\">Back to Section II</a> \n",
    "\n",
    "\n",
    "To run the examples in this notebook you must use the w261 class Docker container, either locally, or in AWS.\n",
    "* AWS region: N. California region (us-west-1) \n",
    "* public AMI: w261-linux-hadoop"
   ]
  },
  {
   "cell_type": "code",
   "execution_count": 9,
   "metadata": {},
   "outputs": [],
   "source": [
    "# global vars (paths) - ADJUST AS NEEDED\n",
    "JAR_FILE = \"/usr/lib/hadoop-mapreduce/hadoop-streaming.jar\"\n",
    "HDFS_DIR = \"/user/root/TOS\""
   ]
  },
  {
   "cell_type": "code",
   "execution_count": 10,
   "metadata": {},
   "outputs": [],
   "source": [
    "from os import environ\n",
    "PATH  = environ['PATH']"
   ]
  },
  {
   "cell_type": "code",
   "execution_count": 11,
   "metadata": {},
   "outputs": [],
   "source": [
    "# should you need to regenerate the file and put it in hdfs a second time, make sure to delete the existing file first:\n",
    "!hdfs dfs -mkdir {HDFS_DIR}"
   ]
  },
  {
   "cell_type": "code",
   "execution_count": 12,
   "metadata": {},
   "outputs": [],
   "source": [
    "# put the file in hdfs:\n",
    "!hdfs dfs -mkdir {HDFS_DIR}/sort\n",
    "!hdfs dfs -mkdir {HDFS_DIR}/output\n",
    "!hdfs dfs -put generate_numbers.output {HDFS_DIR}/sort"
   ]
  },
  {
   "cell_type": "code",
   "execution_count": 13,
   "metadata": {},
   "outputs": [
    {
     "name": "stdout",
     "output_type": "stream",
     "text": [
      "-rw-r--r--   1 root supergroup        366 2020-05-21 10:55 /user/root/TOS/sort/generate_numbers.output\n"
     ]
    }
   ],
   "source": [
    "# make sure it's really there:\n",
    "!hdfs dfs -ls {HDFS_DIR}/sort/generate_numbers.output"
   ]
  },
  {
   "cell_type": "markdown",
   "metadata": {},
   "source": [
    "<h2><a name=\"single-reducer-hadoop-streaming\">II.C.1. Hadoop Streaming Implementation - single reducer</a></h2>\n",
    "<a href=\"#top\">Back to top</a> | <a href=\"#Section2\">Back to Section II</a> \n",
    "\n",
    "<h3>Key points:</h3> \n",
    "<ul>\n",
    "    <li>Single reducer guarantees a single partition</li>\n",
    "    <li>Partial sort becomes total sort</li>\n",
    "    <li>No need for secondary sorting </li>\n",
    "    <li>Single Reducer becomes scalibility bottleneck</li>\n",
    "</ul>\n",
    "<h3>Steps</h3>\n",
    "\n",
    "In the mapper shuffle sort phase, the data is sorted by the primary key, and sent to a single reducer. By specifying `/bin/cat/` for the mapper and reducer, we are telling Hadoop Streaming to use the identity mapper and reducer which simply output the input (Key,Value) pairs.\n",
    "\n",
    "<h4>Setup:</h4>\n",
    "<pre>\n",
    "-D stream.num.map.output.key.fields=2 \n",
    "-D stream.map.output.field.separator=\"\\t\" \n",
    "-D mapreduce.partition.keycomparator.options=\"-k1,1nr -k2,2\" \n",
    "</pre>\n",
    "First we'll specify the number of keys, in our case, 2. The count and the word are primary and secondary keys, respectively. Next we'll tell Hadoop Streaming that our field separator is a tab character. Lastly we'll use the keycompartor options to specify which keys to use for sorting. Here, -n specifies that the sorting is numerical for the primary key, and -r specifies that the result should be reversed, followed by k2 which will sort the words alphabetically to break ties. Refer to the Unix sort section above.\n",
    "\n",
    "<span style=\"color:red\"><strong>IMPORTANT:</strong></span> Hadoop Streaming is particular about the order in which options are specified.  \n",
    "\n",
    "(For more information, see the docs here: https://hadoop.apache.org/docs/r1.2.1/streaming.html#Hadoop+Comparator+Class)"
   ]
  },
  {
   "cell_type": "code",
   "execution_count": 305,
   "metadata": {
    "collapsed": true,
    "jupyter": {
     "outputs_hidden": true
    }
   },
   "outputs": [
    {
     "name": "stdout",
     "output_type": "stream",
     "text": [
      "Deleted /user/root/TOS/sort/output\n",
      "packageJobJar: [] [/usr/lib/hadoop-mapreduce/hadoop-streaming-2.6.0-cdh5.16.2.jar] /tmp/streamjob4497762318533089622.jar tmpDir=null\n",
      "20/05/21 03:51:06 INFO client.RMProxy: Connecting to ResourceManager at /0.0.0.0:8032\n",
      "20/05/21 03:51:06 INFO client.RMProxy: Connecting to ResourceManager at /0.0.0.0:8032\n",
      "20/05/21 03:51:07 INFO mapred.FileInputFormat: Total input paths to process : 1\n",
      "20/05/21 03:51:07 INFO mapreduce.JobSubmitter: number of splits:2\n",
      "20/05/21 03:51:07 INFO mapreduce.JobSubmitter: Submitting tokens for job: job_1589906177930_0023\n",
      "20/05/21 03:51:07 INFO impl.YarnClientImpl: Submitted application application_1589906177930_0023\n",
      "20/05/21 03:51:07 INFO mapreduce.Job: The url to track the job: http://docker.w261:8088/proxy/application_1589906177930_0023/\n",
      "20/05/21 03:51:07 INFO mapreduce.Job: Running job: job_1589906177930_0023\n",
      "20/05/21 03:51:13 INFO mapreduce.Job: Job job_1589906177930_0023 running in uber mode : false\n",
      "20/05/21 03:51:13 INFO mapreduce.Job:  map 0% reduce 0%\n",
      "20/05/21 03:51:19 INFO mapreduce.Job:  map 50% reduce 0%\n",
      "20/05/21 03:51:20 INFO mapreduce.Job:  map 100% reduce 0%\n",
      "20/05/21 03:51:25 INFO mapreduce.Job:  map 100% reduce 100%\n",
      "20/05/21 03:51:25 INFO mapreduce.Job: Job job_1589906177930_0023 completed successfully\n",
      "20/05/21 03:51:26 INFO mapreduce.Job: Counters: 49\n",
      "\tFile System Counters\n",
      "\t\tFILE: Number of bytes read=457\n",
      "\t\tFILE: Number of bytes written=446728\n",
      "\t\tFILE: Number of read operations=0\n",
      "\t\tFILE: Number of large read operations=0\n",
      "\t\tFILE: Number of write operations=0\n",
      "\t\tHDFS: Number of bytes read=794\n",
      "\t\tHDFS: Number of bytes written=391\n",
      "\t\tHDFS: Number of read operations=9\n",
      "\t\tHDFS: Number of large read operations=0\n",
      "\t\tHDFS: Number of write operations=2\n",
      "\tJob Counters \n",
      "\t\tLaunched map tasks=2\n",
      "\t\tLaunched reduce tasks=1\n",
      "\t\tData-local map tasks=2\n",
      "\t\tTotal time spent by all maps in occupied slots (ms)=6014\n",
      "\t\tTotal time spent by all reduces in occupied slots (ms)=2813\n",
      "\t\tTotal time spent by all map tasks (ms)=6014\n",
      "\t\tTotal time spent by all reduce tasks (ms)=2813\n",
      "\t\tTotal vcore-milliseconds taken by all map tasks=6014\n",
      "\t\tTotal vcore-milliseconds taken by all reduce tasks=2813\n",
      "\t\tTotal megabyte-milliseconds taken by all map tasks=6158336\n",
      "\t\tTotal megabyte-milliseconds taken by all reduce tasks=2880512\n",
      "\tMap-Reduce Framework\n",
      "\t\tMap input records=30\n",
      "\t\tMap output records=30\n",
      "\t\tMap output bytes=391\n",
      "\t\tMap output materialized bytes=463\n",
      "\t\tInput split bytes=252\n",
      "\t\tCombine input records=0\n",
      "\t\tCombine output records=0\n",
      "\t\tReduce input groups=30\n",
      "\t\tReduce shuffle bytes=463\n",
      "\t\tReduce input records=30\n",
      "\t\tReduce output records=30\n",
      "\t\tSpilled Records=60\n",
      "\t\tShuffled Maps =2\n",
      "\t\tFailed Shuffles=0\n",
      "\t\tMerged Map outputs=2\n",
      "\t\tGC time elapsed (ms)=118\n",
      "\t\tCPU time spent (ms)=2000\n",
      "\t\tPhysical memory (bytes) snapshot=799264768\n",
      "\t\tVirtual memory (bytes) snapshot=4138995712\n",
      "\t\tTotal committed heap usage (bytes)=822607872\n",
      "\tShuffle Errors\n",
      "\t\tBAD_ID=0\n",
      "\t\tCONNECTION=0\n",
      "\t\tIO_ERROR=0\n",
      "\t\tWRONG_LENGTH=0\n",
      "\t\tWRONG_MAP=0\n",
      "\t\tWRONG_REDUCE=0\n",
      "\tFile Input Format Counters \n",
      "\t\tBytes Read=542\n",
      "\tFile Output Format Counters \n",
      "\t\tBytes Written=391\n",
      "20/05/21 03:51:26 INFO streaming.StreamJob: Output directory: /user/root/TOS/sort/output\n"
     ]
    }
   ],
   "source": [
    "!hdfs dfs -rm -r {HDFS_DIR}/sort/output\n",
    "!hadoop jar {JAR_FILE} \\\n",
    "-D stream.num.map.output.key.fields=2 \\\n",
    "-D stream.map.output.field.separator=\"\\t\" \\\n",
    "-D mapreduce.partition.keypartitioner.options=-k1,1 \\\n",
    "-D mapreduce.job.output.key.comparator.class=org.apache.hadoop.mapred.lib.KeyFieldBasedComparator \\\n",
    "-D mapreduce.partition.keycomparator.options=\"-k1,1nr -k2,2\" \\\n",
    "-mapper /bin/cat \\\n",
    "-reducer /bin/cat \\\n",
    "-input {HDFS_DIR}/sort/generate_numbers.output \\\n",
    "-output {HDFS_DIR}/sort/output"
   ]
  },
  {
   "cell_type": "code",
   "execution_count": 306,
   "metadata": {
    "scrolled": true
   },
   "outputs": [
    {
     "name": "stdout",
     "output_type": "stream",
     "text": [
      "Found 2 items\n",
      "-rw-r--r--   1 root supergroup          0 2020-05-21 03:51 /user/root/TOS/sort/output/_SUCCESS\n",
      "-rw-r--r--   1 root supergroup        391 2020-05-21 03:51 /user/root/TOS/sort/output/part-00000\n"
     ]
    }
   ],
   "source": [
    "# Check to see that we have indeed generated a single output file\n",
    "!hdfs dfs -ls {HDFS_DIR}/sort/output"
   ]
  },
  {
   "cell_type": "code",
   "execution_count": 307,
   "metadata": {},
   "outputs": [
    {
     "name": "stdout",
     "output_type": "stream",
     "text": [
      "====================================================================================================\n",
      "Single Reducer Sorted Output - Hadoop Streaming\n",
      "====================================================================================================\n",
      "30 \tcenter\t\n",
      "30 \tcorresponding\t\n",
      "30 \tdriver\t\n",
      "29 \tcell\t\n",
      "29 \tdrivers\t\n",
      "28 \tcontour\t\n",
      "28 \tdescent\t\n",
      "28 \tdevelop\t\n",
      "26 \tdataset\t\n",
      "24 \tconsists\t\n",
      "24 \tevaluate\t\n",
      "23 \tclustering\t\n",
      "23 \texperiements\t\n",
      "20 \tdef\t\n",
      "19 \tefficient\t\n",
      "17 \tcomputing\t\n",
      "17 \tdocument\t\n",
      "16 \tdone\t\n",
      "12 \tduring\t\n",
      "9 \tcomputational\t\n",
      "8 \tdo\t\n",
      "4 \tcompute\t\n",
      "4 \tdescent\t\n",
      "3 \tcurrent\t\n",
      "2 \tchange\t\n",
      "2 \tcluster\t\n",
      "1 \tcreating\t\n",
      "1 \tdistributed\t\n",
      "0 \tcode\t\n",
      "0 \tdifferent\t\n"
     ]
    }
   ],
   "source": [
    "# Print the results\n",
    "print(\"=\"*100)\n",
    "print(\"Single Reducer Sorted Output - Hadoop Streaming\")\n",
    "print(\"=\"*100)\n",
    "!hdfs dfs -cat {HDFS_DIR}/sort/output/part-00000"
   ]
  },
  {
   "cell_type": "markdown",
   "metadata": {},
   "source": [
    "<h2><a name=\"multiple-reducer-hadoop-streaming\">II.C.2. Hadoop Streaming Implementation - multiple reducers</a></h2>\n",
    "<a href=\"#top\">Back to top</a> | <a href=\"#Section2\">Back to Section II</a> \n"
   ]
  },
  {
   "cell_type": "markdown",
   "metadata": {},
   "source": [
    "<h3>Key points:</h3> \n",
    "<ul>\n",
    "    <li>Need to guarantee that every key in a single reducer is to be \"pre-sorted\" against all other reducers</li>\n",
    "    <li>Requires knowledge of the distribution of values to be sorted - more about this later in the sampling section</li>\n",
    "    <li>Uses secondary sort to order keys within each partition</li>\n",
    "</ul>\n",
    "\n",
    "\n",
    "<h3><strong>What's new</strong>: </h3>  \n",
    "\n",
    "Now the mapper needs to emit an additional key for each record by which to partition. We partition by this new 'primary' key and sort by secondary and tertiary keys to break ties. Here, the partition key is the primary key.   \n",
    "\n",
    "The following diagram illustrates the steps required to perform total sort in a multi-reducer setting:\n"
   ]
  },
  {
   "cell_type": "code",
   "execution_count": 175,
   "metadata": {},
   "outputs": [
    {
     "data": {
      "image/png": "[encoded data removed]",
      "text/plain": [
       "<IPython.core.display.Image object>"
      ]
     },
     "execution_count": 175,
     "metadata": {},
     "output_type": "execute_result"
    }
   ],
   "source": [
    "Image(\"TotalSortSteps2.png\")"
   ]
  },
  {
   "cell_type": "markdown",
   "metadata": {},
   "source": [
    "<em>Figure 2. Total Order sort with multiple reducers</em>"
   ]
  },
  {
   "cell_type": "markdown",
   "metadata": {},
   "source": [
    "<h3>Multiple Reducer Overview</h3>\n",
    "<a href=\"#top\">Back to top</a> | <a href=\"#Section2\">Back to Section II</a> \n",
    "   \n",
    "<p></p>\n",
    "After the Map phase and before the beginning of the Reduce phase there is a handoff process, known as shuffle and sort. Output from the mapper tasks is prepared and moved to the nodes where the reducer tasks will be run. To improve overall efficiency, records from mapper output are sent to the physical node that a reducer will be running on as they are being produced - to avoid flooding the network when all mapper tasks are complete.   \n",
    "\n",
    "What this means is that when we have more than one reducer in a MapReduce job, Hadoop no longer sorts the keys globally (total sort). Instead mapper outputs are partitioned while they're being produced, and before the reduce phase starts, records are sorted by the key within each partition. In other words, Hadoop's architecture only guarantees partial sort.   \n",
    "\n",
    "Therefore, to achieve total sort, a programmer needs to incorporate additional steps and supply the Hadoop framework additional aid during the shuffle and sort phase. Particularly, a partition file or partition function is required.\n",
    "\n",
    "<h3>Version 1 - A two step approach</h3>\n",
    "\n",
    "<h4>Step 1: Include a partition file or partition function inside mappers</h4>\n",
    "\n",
    "Recall that we can use an identity mapper in single-reducer step up, which just echos back the (key, value) pair from input data. In a multi-reducer setup, we will need to add an additional \"partition key\" to instruct Hadoop how to partition records, and pass through the original (key, value) pair.   \n",
    "\n",
    "The partition key is derived from the input key, with the help of either a partition file (more on this in the sampling section) or a user-specified partition function, which takes a key as input, and produces a partition key. Different input keys can result in same partition key.\n",
    "\n",
    "Now we have two keys (as opposed to just one), and one is used for partitioning, the other is used for sorting. The reducer needs to drop the partition key which is used internally to aid total sort, and recover the original (key, value) pairs.\n",
    "\n",
    "<h4>Step 2: Post-processing step to order partitions</h4>\n",
    "\n",
    "The MapReduce job output is written to HDFS, with the output from each partition in a separate file (usually named something such as: part-00000). These file names are indexed and ordered. However, Hadoop makes no attempt to sort partition keys – the mapping between partition key and partition index is not order-preserving. Therefore, while partition keys key_1, key_2 and key_1 < key_2, it's possible that the output of partition with key_1 could be written to file part-00006 and the output of partition with key_2 written to file part-00003.   \n",
    "\n",
    "Therefore, a post-processing step is required to finish total sort. Next, we'll provide an example of using linux to order the partition files. We will need to take one record from every (non-empty) partition output, sort them, and construct the appropriate ordering among partitions.\n",
    "\n",
    "\n",
    "<h3>Introductory Example:</h3>\n",
    "<a href=\"#top\">Back to top</a> | <a href=\"#Section2\">Back to Section II</a> \n",
    "\n",
    "Consider the task of sorting English words alphabetically, for example, four words from our example dataset:\n",
    "\n",
    "<pre style=\"color: #BA2121\">\n",
    "experiements\t\n",
    "def\t\n",
    "descent\t\n",
    "compute\t\n",
    "</pre>\n",
    "\n",
    "The expected sorted output is:\n",
    "<pre style=\"color: #BA2121\">\n",
    "compute\t\n",
    "def\t\n",
    "descent\t\n",
    "experiements\t\n",
    "</pre>\n",
    "\n",
    "We can use the first character from each word as a partition key. The input data could potentially have billions of words, but we will never have more than 26 unique partition keys (assuming all words are lower-cased). In addition, a word starting with \"a\" will always have a lower alphabetical ordering compared to a word which starts with \"z\". Therefore, all words belonging to partition \"a\" will be \"pre-sorted\" against all words from partition \"z\". The technique described here is equivalent to the following partition function:\n",
    "\n",
    "<div style=\"background: #f8f8f8; overflow:auto;width:auto;border:0;border-width:.0;padding:.0;\"><pre style=\"margin: 0; line-height: 125%\"><span style=\"color: #008000; font-weight: bold\">def</span> <span style=\"color: #0000FF\">partition_function</span>(word):\n",
    "    <span style=\"color: #008000; font-weight: bold\">assert</span> <span style=\"color: #008000\">len</span>(word) <span style=\"color: #666666\">&gt;</span> <span style=\"color: #666666\">0</span>\n",
    "    <span style=\"color: #008000; font-weight: bold\">return</span> word[<span style=\"color: #666666\">0</span>]\n",
    "</pre></div>\n",
    "\n",
    "It is important to note that a partition function must preserve sort order, i.e. all partitions need to be sorted against each other. For instance, the following partition function is not valid (in sorting words in alphabetical order):\n",
    "\n",
    "<div style=\"background: #f8f8f8; overflow:auto;width:auto;border:0;border-width:.0;padding:.0;\"><pre style=\"margin: 0; line-height: 125%\"><span style=\"color: #008000; font-weight: bold\">def</span> <span style=\"color: #0000FF\">partition_function</span>(word):\n",
    "    <span style=\"color: #008000; font-weight: bold\">assert</span> <span style=\"color: #008000\">len</span>(word) <span style=\"color: #666666\">&gt;</span> <span style=\"color: #666666\">0</span>\n",
    "    <span style=\"color: #008000; font-weight: bold\">return</span> word[<span style=\"color: #666666\">-1</span>]\n",
    "</pre></div>\n",
    "\n",
    "\n",
    "\n",
    "The mapper output or the four words with this partition scheme is:\n",
    "<pre style=\"color: #BA2121\">\n",
    "e    experiements\t\n",
    "d    def\t\n",
    "d    descent\t\n",
    "c    compute\t\n",
    "</pre>\n",
    "\n",
    "The following diagram outlines the flow of data with this example:"
   ]
  },
  {
   "cell_type": "code",
   "execution_count": 177,
   "metadata": {},
   "outputs": [
    {
     "data": {
      "image/png": "[encoded data removed]",
      "text/plain": [
       "<IPython.core.display.Image object>"
      ]
     },
     "execution_count": 177,
     "metadata": {},
     "output_type": "execute_result"
    }
   ],
   "source": [
    "Image(filename=\"Partition2.png\")"
   ]
  },
  {
   "cell_type": "markdown",
   "metadata": {},
   "source": [
    "<em>Figure 3. Partial Order Sort</em>\n",
    "\n",
    "Note that partition key \"e\" maps to partition 0, even if it is \"greater than\" key \"d\" and \"c\". This illustrates that the mapping between partition key and partition indices are not order preserving. In addition, sorting within partitions is based on the original key (word itself).\n"
   ]
  },
  {
   "cell_type": "markdown",
   "metadata": {},
   "source": [
    "<h3>Implementation Walkthrough</h3>\n",
    "<a href=\"#top\">Back to top</a> | <a href=\"#Section2\">Back to Section II</a> \n",
    "\n",
    "Coming back to our original dataset, here we will sort and print the output in two steps. Step one will partition and sort the data, and step two will arrange the partitions in the appropriate order. In the implementation that follows, we'll build on this and demonstrate how to ensure that the partitions are created in the appropriate order to begin with.\n",
    "\n",
    "<ol>\n",
    "    <li>Run the Hadoop command that prepends an alphabetic key to each row such that they end up in the appropriate partition, then shuffle and sort. </li>\n",
    "    <li>Combine the secondary sort output files in the appropriate order</li>\n",
    "</ol>\n",
    "\n",
    "<h4>Setup</h4>\n",
    "\n",
    "The following options comprise the Hadoop Streaming configuration for the sort job. Notice the addition of the keypartitioner option, which tells Hadoop Streaming to partition by the primary key. Remember that the order of the options is important.\n",
    "\n",
    "```\n",
    "-D stream.num.map.output.key.fields=3 \\\n",
    "-D stream.map.output.field.separator=\"\\t\" \\\n",
    "-D mapreduce.partition.keypartitioner.options=-k1,1 \\\n",
    "-D mapreduce.job.output.key.comparator.class=org.apache.hadoop.mapred.lib.KeyFieldBasedComparator \\\n",
    "-D mapreduce.partition.keycomparator.options=\"-k1,1 -k2,2nr -k3,3\" \\\n",
    "```\n",
    "\n",
    "Here, \"-k1,1 -k2,2nr -k3,3\" performs secondary sorting. Our three key fields are:\n",
    "\n",
    "* `-k1,1`: partition key, one of $\\{A, B, C\\}$ (this part is optional, since each partition will contain the same partition key)\n",
    "* `-k2,2nr`: input key (number/count), and we specify `nr` flags to sort them numerically reverse \n",
    "* `-k3,3`  : input value (word), if two records have same count, we break the tie by comparing the words alphabetically"
   ]
  },
  {
   "cell_type": "markdown",
   "metadata": {},
   "source": [
    "### Function to prepend an alphabetic key to each row such that they end up in the appropriate partition\n",
    "\n",
    "The following mapper is an identity mapper with a partition function included, it prepends an alphabetic key as partition key to input records. The letters A, B, and C are arbitrary, and as we'll see, do not correspond to any ordering of partition files."
   ]
  },
  {
   "cell_type": "code",
   "execution_count": 310,
   "metadata": {},
   "outputs": [
    {
     "name": "stdout",
     "output_type": "stream",
     "text": [
      "Overwriting prependPartitionKeyMapper.py\n"
     ]
    }
   ],
   "source": [
    "%%writefile prependPartitionKeyMapper.py\n",
    "#!/usr/bin/env python\n",
    "import sys\n",
    "for line in sys.stdin:\n",
    "    line = line.strip()\n",
    "    key, value = line.split(\"\\t\")\n",
    "    if int(key) < 10:\n",
    "        print \"%s\\t%s\\t%s\" % (\"A\", key, value)   \n",
    "    elif int(key) < 20:\n",
    "        print \"%s\\t%s\\t%s\" % (\"B\", key, value)   \n",
    "    else:\n",
    "        print \"%s\\t%s\\t%s\" % (\"C\", key, value)    "
   ]
  },
  {
   "cell_type": "markdown",
   "metadata": {},
   "source": [
    "### __Step 1 - run the hadoop command specifying 3 reducers, the partition key, and the sort keys__"
   ]
  },
  {
   "cell_type": "code",
   "execution_count": 18,
   "metadata": {
    "collapsed": true,
    "jupyter": {
     "outputs_hidden": true
    }
   },
   "outputs": [
    {
     "name": "stdout",
     "output_type": "stream",
     "text": [
      "rm: `/user/root/TOS/sort/secondary_sort_output': No such file or directory\n",
      "20/05/19 17:35:01 WARN streaming.StreamJob: -file option is deprecated, please use generic option -files instead.\n",
      "packageJobJar: [prependPartitionKeyMapper.py] [/usr/lib/hadoop-mapreduce/hadoop-streaming-2.6.0-cdh5.16.2.jar] /tmp/streamjob5288394612382812866.jar tmpDir=null\n",
      "20/05/19 17:35:02 INFO client.RMProxy: Connecting to ResourceManager at /0.0.0.0:8032\n",
      "20/05/19 17:35:02 INFO client.RMProxy: Connecting to ResourceManager at /0.0.0.0:8032\n",
      "20/05/19 17:35:03 INFO mapred.FileInputFormat: Total input paths to process : 1\n",
      "20/05/19 17:35:03 INFO mapreduce.JobSubmitter: number of splits:2\n",
      "20/05/19 17:35:03 INFO mapreduce.JobSubmitter: Submitting tokens for job: job_1589906177930_0003\n",
      "20/05/19 17:35:03 INFO impl.YarnClientImpl: Submitted application application_1589906177930_0003\n",
      "20/05/19 17:35:03 INFO mapreduce.Job: The url to track the job: http://docker.w261:8088/proxy/application_1589906177930_0003/\n",
      "20/05/19 17:35:03 INFO mapreduce.Job: Running job: job_1589906177930_0003\n",
      "20/05/19 17:35:09 INFO mapreduce.Job: Job job_1589906177930_0003 running in uber mode : false\n",
      "20/05/19 17:35:09 INFO mapreduce.Job:  map 0% reduce 0%\n",
      "20/05/19 17:35:15 INFO mapreduce.Job:  map 50% reduce 0%\n",
      "20/05/19 17:35:16 INFO mapreduce.Job:  map 100% reduce 0%\n",
      "20/05/19 17:35:21 INFO mapreduce.Job:  map 100% reduce 33%\n",
      "20/05/19 17:35:22 INFO mapreduce.Job:  map 100% reduce 67%\n",
      "20/05/19 17:35:23 INFO mapreduce.Job:  map 100% reduce 100%\n",
      "20/05/19 17:35:23 INFO mapreduce.Job: Job job_1589906177930_0003 completed successfully\n",
      "20/05/19 17:35:23 INFO mapreduce.Job: Counters: 49\n",
      "\tFile System Counters\n",
      "\t\tFILE: Number of bytes read=529\n",
      "\t\tFILE: Number of bytes written=751857\n",
      "\t\tFILE: Number of read operations=0\n",
      "\t\tFILE: Number of large read operations=0\n",
      "\t\tFILE: Number of write operations=0\n",
      "\t\tHDFS: Number of bytes read=794\n",
      "\t\tHDFS: Number of bytes written=451\n",
      "\t\tHDFS: Number of read operations=15\n",
      "\t\tHDFS: Number of large read operations=0\n",
      "\t\tHDFS: Number of write operations=6\n",
      "\tJob Counters \n",
      "\t\tLaunched map tasks=2\n",
      "\t\tLaunched reduce tasks=3\n",
      "\t\tData-local map tasks=2\n",
      "\t\tTotal time spent by all maps in occupied slots (ms)=6166\n",
      "\t\tTotal time spent by all reduces in occupied slots (ms)=10753\n",
      "\t\tTotal time spent by all map tasks (ms)=6166\n",
      "\t\tTotal time spent by all reduce tasks (ms)=10753\n",
      "\t\tTotal vcore-milliseconds taken by all map tasks=6166\n",
      "\t\tTotal vcore-milliseconds taken by all reduce tasks=10753\n",
      "\t\tTotal megabyte-milliseconds taken by all map tasks=6313984\n",
      "\t\tTotal megabyte-milliseconds taken by all reduce tasks=11011072\n",
      "\tMap-Reduce Framework\n",
      "\t\tMap input records=30\n",
      "\t\tMap output records=30\n",
      "\t\tMap output bytes=451\n",
      "\t\tMap output materialized bytes=547\n",
      "\t\tInput split bytes=252\n",
      "\t\tCombine input records=0\n",
      "\t\tCombine output records=0\n",
      "\t\tReduce input groups=30\n",
      "\t\tReduce shuffle bytes=547\n",
      "\t\tReduce input records=30\n",
      "\t\tReduce output records=30\n",
      "\t\tSpilled Records=60\n",
      "\t\tShuffled Maps =6\n",
      "\t\tFailed Shuffles=0\n",
      "\t\tMerged Map outputs=6\n",
      "\t\tGC time elapsed (ms)=227\n",
      "\t\tCPU time spent (ms)=3980\n",
      "\t\tPhysical memory (bytes) snapshot=1241333760\n",
      "\t\tVirtual memory (bytes) snapshot=6911700992\n",
      "\t\tTotal committed heap usage (bytes)=1525153792\n",
      "\tShuffle Errors\n",
      "\t\tBAD_ID=0\n",
      "\t\tCONNECTION=0\n",
      "\t\tIO_ERROR=0\n",
      "\t\tWRONG_LENGTH=0\n",
      "\t\tWRONG_MAP=0\n",
      "\t\tWRONG_REDUCE=0\n",
      "\tFile Input Format Counters \n",
      "\t\tBytes Read=542\n",
      "\tFile Output Format Counters \n",
      "\t\tBytes Written=451\n",
      "20/05/19 17:35:23 INFO streaming.StreamJob: Output directory: /user/root/TOS/sort/secondary_sort_output\n"
     ]
    }
   ],
   "source": [
    "!hdfs dfs -rm -r {HDFS_DIR}/sort/secondary_sort_output\n",
    "!hadoop jar {JAR_FILE} \\\n",
    "    -D stream.num.map.output.key.fields=3 \\\n",
    "    -D stream.map.output.field.separator=\"\\t\" \\\n",
    "    -D mapreduce.partition.keypartitioner.options=-k1,1 \\\n",
    "    -D mapreduce.job.output.key.comparator.class=org.apache.hadoop.mapred.lib.KeyFieldBasedComparator \\\n",
    "    -D mapreduce.partition.keycomparator.options=\"-k1,1 -k2,2nr -k3,3\" \\\n",
    "    -mapper prependPartitionKeyMapper.py \\\n",
    "    -reducer /bin/cat \\\n",
    "    -file prependPartitionKeyMapper.py \\\n",
    "    -input {HDFS_DIR}/sort/generate_numbers.output \\\n",
    "    -output {HDFS_DIR}/sort/secondary_sort_output \\\n",
    "    -numReduceTasks 3 \\\n",
    "    -partitioner org.apache.hadoop.mapred.lib.KeyFieldBasedPartitioner "
   ]
  },
  {
   "cell_type": "markdown",
   "metadata": {},
   "source": [
    "<h3> Check the output </h3>"
   ]
  },
  {
   "cell_type": "code",
   "execution_count": 19,
   "metadata": {},
   "outputs": [
    {
     "name": "stdout",
     "output_type": "stream",
     "text": [
      "Found 4 items\n",
      "-rw-r--r--   1 root supergroup          0 2020-05-19 17:35 /user/root/TOS/sort/secondary_sort_output/_SUCCESS\n",
      "-rw-r--r--   1 root supergroup         76 2020-05-19 17:35 /user/root/TOS/sort/secondary_sort_output/part-00000\n",
      "-rw-r--r--   1 root supergroup        217 2020-05-19 17:35 /user/root/TOS/sort/secondary_sort_output/part-00001\n",
      "-rw-r--r--   1 root supergroup        158 2020-05-19 17:35 /user/root/TOS/sort/secondary_sort_output/part-00002\n",
      "====================================================================================================\n",
      "/part-00000\n",
      "====================================================================================================\n",
      "B\t19 \tefficient\t\n",
      "B\t17 \tcomputing\t\n",
      "B\t17 \tdocument\t\n",
      "B\t16 \tdone\t\n",
      "B\t12 \tduring\t\n",
      "====================================================================================================\n",
      "/part-00001\n",
      "====================================================================================================\n",
      "C\t30 \tcenter\t\n",
      "C\t30 \tcorresponding\t\n",
      "C\t30 \tdriver\t\n",
      "C\t29 \tcell\t\n",
      "C\t29 \tdrivers\t\n",
      "C\t28 \tcontour\t\n",
      "C\t28 \tdescent\t\n",
      "C\t28 \tdevelop\t\n",
      "C\t26 \tdataset\t\n",
      "C\t24 \tconsists\t\n",
      "C\t24 \tevaluate\t\n",
      "C\t23 \tclustering\t\n",
      "C\t23 \texperiements\t\n",
      "C\t20 \tdef\t\n",
      "====================================================================================================\n",
      "/part-00002\n",
      "====================================================================================================\n",
      "A\t9 \tcomputational\t\n",
      "A\t8 \tdo\t\n",
      "A\t4 \tcompute\t\n",
      "A\t4 \tdescent\t\n",
      "A\t3 \tcurrent\t\n",
      "A\t2 \tchange\t\n",
      "A\t2 \tcluster\t\n",
      "A\t1 \tcreating\t\n",
      "A\t1 \tdistributed\t\n",
      "A\t0 \tcode\t\n",
      "A\t0 \tdifferent\t\n"
     ]
    }
   ],
   "source": [
    "!hdfs dfs -ls {HDFS_DIR}/sort/secondary_sort_output\n",
    "print (\"=\"*100)\n",
    "print (\"/part-00000\")\n",
    "print (\"=\"*100)\n",
    "!hdfs dfs -cat {HDFS_DIR}/sort/secondary_sort_output/part-00000\n",
    "print (\"=\"*100)\n",
    "print( \"/part-00001\")\n",
    "print (\"=\"*100)\n",
    "!hdfs dfs -cat {HDFS_DIR}/sort/secondary_sort_output/part-00001\n",
    "print (\"=\"*100)\n",
    "print (\"/part-00002\")\n",
    "print (\"=\"*100)\n",
    "!hdfs dfs -cat {HDFS_DIR}/sort/secondary_sort_output/part-00002"
   ]
  },
  {
   "cell_type": "markdown",
   "metadata": {},
   "source": [
    "### Step 2 - Combine the sorted output files in the appropriate order\n",
    "The following code block peaks at the first line of each partition file to determine the order of partitions, and prints the contents of each partition in order, from largest to smallest. Notice that, while the files are arranged in total order, the partition file names are not ordered. We’ll tackle this issue in the next section.\n"
   ]
  },
  {
   "cell_type": "code",
   "execution_count": null,
   "metadata": {},
   "outputs": [],
   "source": [
    "# The subprocess module allows you to spawn new (system) processes, connect to their input/output/error pipes, \n",
    "# and obtain their return codes. Ref: https://docs.python.org/2/library/subprocess.html\n",
    "import subprocess \n",
    "import re\n",
    "\n",
    "'''\n",
    "subprocess.Popen()\n",
    "Opens a new subprocess and executes the unix command in the args array, passing the output to STDOUT.\n",
    "This is the equivalent of typing: \n",
    "hdfs dfs -ls {HDFS_DIR}/sort/secondary_sort_output/part-*\n",
    "in the unix shell prompt\n",
    "Even though we cannot see this output it would look like this:\n",
    "-rw-r--r--   1 koza supergroup        141 2016-08-20 19:25 /user/root/TOS/sort/secondary_sort_output/part-00000\n",
    "-rw-r--r--   1 koza supergroup        164 2016-08-20 19:25 /user/root/TOS/sort/secondary_sort_output/part-00001\n",
    "-rw-r--r--   1 koza supergroup        118 2016-08-20 19:25 /user/root/TOS/sort/secondary_sort_output/part-00002\n",
    "'''\n",
    "\n",
    "p = subprocess.Popen([\"hdfs\", \"dfs\", \"-ls\", \"/user/root/TOS/sort/secondary_sort_output/part-*\" ],  \n",
    "                     stdout=subprocess.PIPE, stderr=subprocess.STDOUT)\n",
    "\n",
    "\n",
    "'''\n",
    "Save the output of the above command to the 'lines' string variable by reading each line and appending it to the 'lines' string.\n",
    "The resulting lines string should look like this:\n",
    "\n",
    "'-rw-r--r--   1 koza supergroup        141 2016-08-20 19:25 /user/root/TOS/sort/secondary_sort_output/part-00000\\n-rw-r--r--   1 koza supergroup        164 2016-08-20 19:25 /user/root/TOS/sort/secondary_sort_output/part-00001\\n-rw-r--r--   1 koza supergroup        118 2016-08-20 19:25 /user/root/TOS/sort/secondary_sort_output/part-00002\\n'\n",
    "\n",
    "'''\n",
    "lines=\"\"\n",
    "for line in p.stdout.readlines():\n",
    "    lines = lines + str(line)\n",
    "\n",
    "    \n",
    "'''\n",
    "The following regular expresion extracts the paths from 'lines', and appends each path to the outputPARTFiles list.\n",
    "The resulting outputPARTFiles list should look like this:\n",
    "\n",
    "['/user/root/TOS/sort/secondary_sort_output/part-00000',\n",
    " '/user/root/TOS/sort/secondary_sort_output/part-00001',\n",
    " '/user/root/TOS/sort/secondary_sort_output/part-00002']\n",
    "\n",
    "'''    \n",
    "regex = re.compile('(\\/user\\/root\\/TOS\\/sort\\/secondary_sort_output\\/part-\\d*)')\n",
    "it = re.finditer(regex, lines)\n",
    "\n",
    "outputPARTFiles=[]\n",
    "for match in it:\n",
    "    outputPARTFiles.append(match.group(0))\n",
    "\n",
    "'''\n",
    "Next is where we peek at the first line of each file and extract the key. The resulting partKeys list should look like this:\n",
    "[19, 30, 9]\n",
    "\n",
    "For each file f in outputPARTFiles\n",
    "    int(...)                            <-- this will convert the key returned by the commands that follow to an integer\n",
    "    [\"hdfs\", \"dfs\", \"-cat\", f]          <-- cat the file \n",
    "    stdout=subprocess.PIPE              <-- to STDOUT\n",
    "    stdout.read()                       <-- read the STDOUT into memory\n",
    "    decode()                            <-- convert from bytes to string (for python 3)\n",
    "    splitlines()[0]                     <-- split that output into lines, and return the first line (at index 0)\n",
    "    split('\\t')[1]                      <-- split that first line by tab character, and return the item at index 1 - this is the 'key'\n",
    "    strip()                             <-- remove trailing and leading spaces so output is clean\n",
    "\n",
    "'''    \n",
    "partKeys=[]\n",
    "for f in outputPARTFiles:\n",
    "    partKeys.append(int(subprocess.Popen([\"hdfs\", \"dfs\", \"-cat\", f], stdout=subprocess.PIPE).stdout.read().decode().splitlines()[0].split('\\t')[1].strip()))\n",
    "\n",
    "    \n",
    "'''\n",
    "create a dict d assoicating each key with its corresponding file path. The resulting d dict should look like this:\n",
    "\n",
    "{ 9: '/user/root/TOS/sort/secondary_sort_output/part-00002',\n",
    " 19: '/user/root/TOS/sort/secondary_sort_output/part-00000',\n",
    " 30: '/user/root/TOS/sort/secondary_sort_output/part-00001'}\n",
    " \n",
    " ^^ we now know that the largest key lives in part-00001, and we will display that file content first\n",
    "\n",
    "'''    \n",
    "d={}\n",
    "for i in range(len(outputPARTFiles)):\n",
    "    print (\"part is %d, key is %d, %s\" %(i, partKeys[i], outputPARTFiles[i]))\n",
    "    d[partKeys[i]] = outputPARTFiles[i]\n",
    "\n",
    "'''\n",
    "Print the contents of each file in total sorted order, by sorting the d dict by key in reverse:\n",
    "\n",
    "    sorted(d.items(), key=lambda x: x[0], reverse=True)   <-- sorts d dict by key x[0], in reverse\n",
    "    print \"%d:%s\"%(k[0], k[1])                            <-- print the key k[0] and the path k[1]\n",
    "    \n",
    "    use a subprocess to read the contents of each file listed in d (k[1]) (see explanation above for subprocess)\n",
    "    and print each line omitting leading and trailing spaces\n",
    "'''\n",
    "  \n",
    "#TOTAL Sort in decreasing order\n",
    "for k in sorted(d.items(), key=lambda x: x[0], reverse=True):\n",
    "    print (\"=\"*100)\n",
    "    print (\"%d:%s\"%(k[0], k[1]))\n",
    "    print (\"=\"*100)\n",
    "    p = subprocess.Popen([\"hdfs\", \"dfs\", \"-cat\", k[1]],  stdout=subprocess.PIPE, stderr=subprocess.STDOUT)\n",
    "    for line in p.stdout.readlines():\n",
    "        print (line.decode().strip())"
   ]
  },
  {
   "cell_type": "markdown",
   "metadata": {},
   "source": [
    "<h2><a name=\"Partitioning-in-Hadoop-streaming\">II.C.3 Hadoop Streaming Implementation - multiple reducers with ordered partitions</a></h2>\n",
    "<a href=\"#top\">Back to top</a>\n",
    "\n",
    "<h4>Keypoints:</h4>\n",
    "\n",
    "<ul>\n",
    "<li>Challenge: which partition contains the largest/smallest values seems arbitrary</li>\n",
    "    <li>Hadoop streaming <span class=\"code\">KeyFieldBasedPartitioner</span> does not sort partition keys, even though it seemingly accepts Unix <span class=\"code\">sort</span> compatible configurations</li>\n",
    "</ul>\n",
    "\n",
    "<h4>Solution:</h4>\n",
    "\n",
    "<ul>\n",
    "<li>Understand the inner working of <span class=\"code\">HashPartitioner</span> and <span class=\"code\">KeyFieldBasedPartitioner</span></li>\n",
    "<li>Relationship between <span class=\"code\">KeyFieldBasedPartitioner</span> and <span class=\"code\">HashPartitioner</span>:   \n",
    "<br>* <span class=\"code\">KeyFieldBasedPartitioner</span> applies <span class=\"code\">HashPartitioner</span> on configured key field(s)</li>\n",
    "<li>Create the inverse function of <span class=\"code\">HashPartitioner</span> and assign partition keys accordingly</li>\n",
    "</ul>"
   ]
  },
  {
   "cell_type": "markdown",
   "metadata": {},
   "source": [
    "<h3><a name=\"Understanding-HashPartitioner\"> Understanding HashPartitioner</a></h3>\n",
    "<a href=\"#top\">Back to top</a>   | <a href=\"#Section3\">Back to Section 3</a>\n",
    "\n",
    "By default, Hadoop uses a library class `HashPartitioner` to compute the partition index for keys produced by mappers. It has a method called `getPartition`, which takes `key.hashCode() & Integer.MAX_VALUE` and finds the modulus using the number of reduce tasks. For example, if there are 10 reduce tasks, `getPartition` will return values 0 through 9 for all keys.\n",
    "\n",
    "<pre>\n",
    "// HashPartitioner\n",
    "\n",
    "partitionIndex = (key.hashCode() & Integer.MAX_VALUE) % numReducers\n",
    "</pre>\n",
    "\n",
    "In the land of native hadoop applications (written in Java or JVM languages), keys can be any object type that is hashable (i.e. implements hashable interface). For Hadoop Streaming, however, keys are always string values. Therefore the hashCode function for strings is used:\n",
    "\n",
    "\n",
    "<div style=\"margin:20px 0;background: #f8f8f8; overflow:auto;width:auto;border:0;border-width:.0;padding:.0;\">\n",
    "<pre style=\"margin: 0; line-height: 125%\">\n",
    "public <span style=\"color: #008000\">int</span> hashCode() {\n",
    "    <span style=\"color: #008000\">int</span> h <span style=\"color: #666666\">=</span> <span style=\"color: #008000\">hash</span>;\n",
    "    <span style=\"color: #008000; font-weight: bold\">if</span> (h <span style=\"color: #666666\">==</span> <span style=\"color: #666666\">0</span> <span style=\"color: #666666\">&amp;&amp;</span> value<span style=\"color: #666666\">.</span>length <span style=\"color: #666666\">&gt;</span> <span style=\"color: #666666\">0</span>) {\n",
    "        char val[] <span style=\"color: #666666\">=</span> value;\n",
    "        <span style=\"color: #008000; font-weight: bold\">for</span> (<span style=\"color: #008000\">int</span> i <span style=\"color: #666666\">=</span> <span style=\"color: #666666\">0</span>; i <span style=\"color: #666666\">&lt;</span> value<span style=\"color: #666666\">.</span>length; i<span style=\"color: #666666\">++</span>) {\n",
    "            h <span style=\"color: #666666\">=</span> <span style=\"color: #666666\">31</span> <span style=\"color: #666666\">*</span> h <span style=\"color: #666666\">+</span> val[i];\n",
    "        }\n",
    "        <span style=\"color: #008000\">hash</span> <span style=\"color: #666666\">=</span> h;\n",
    "    }\n",
    "    <span style=\"color: #008000; font-weight: bold\">return</span> h;\n",
    "}\n",
    "</pre>\n",
    "</div>\n",
    "\n",
    "\n",
    "When we configure Hadoop Streaming to use KeyBasedPartitioner, the process is very similar. Hadoop Streaming will parse command line options such as -k2,2 into key specs, and extract the part of the composite key (in this example, field 2 of many fields) and read in the partition key as a string. For example, with the following configuration:\n",
    "\n",
    "<pre>\n",
    "\"stream.map.output.field.separator\" : \".\",\n",
    "\"mapreduce.partition.keycomparator.options\": \"-k2,2\",\n",
    "</pre>\n",
    "\n",
    "Hadoop will extract '<strong>a</strong>' from a composite key <strong>2.a.4</strong> to use as the partition key.\n",
    "\n",
    "The partition key is then hashed (as string) by the same `hashCode` function, its modulus using number of reduce tasks yields the partition index.\n",
    "\n",
    "See `KeyBasedPartitioner` [source code](https://github.com/apache/hadoop/blob/2e1d0ff4e901b8313c8d71869735b94ed8bc40a0/hadoop-mapreduce-project/hadoop-mapreduce-client/hadoop-mapreduce-client-core/src/main/java/org/apache/hadoop/mapreduce/lib/partition/KeyFieldBasedPartitioner.java) for the actual implementations."
   ]
  },
  {
   "cell_type": "markdown",
   "metadata": {},
   "source": [
    "<h3><a name=\"Inverse-HashCode-Function\">Inverse HashCode Function</a></h3>\n",
    "<a href=\"#top\">Back to top</a>   | <a href=\"#Section3\">Back to Section 3</a>\n",
    "\n",
    "\n",
    "In order to preserve partition key ordering, we will construct an \"inverse hashCode function\", which takes as input the desired partition index and total number of partitions, and returns the partition key. This key, when supplied to the Hadoop framework (KeyBasedPartitioner), will hash to the returned desired index.   \n",
    "\n",
    "First, let's implement the core of HashPartitioner in Python:\n"
   ]
  },
  {
   "cell_type": "code",
   "execution_count": 20,
   "metadata": {},
   "outputs": [
    {
     "data": {
      "text/plain": [
       "[2, 0, 1]"
      ]
     },
     "execution_count": 20,
     "metadata": {},
     "output_type": "execute_result"
    }
   ],
   "source": [
    "def makeIndex(key, num_reducers):\n",
    "    byteof = lambda char: int(format(ord(char), 'b'), 2)\n",
    "    current_hash = 0\n",
    "    for c in key:\n",
    "        current_hash = (current_hash * 31 + byteof(c))\n",
    "    return current_hash % num_reducers\n",
    "\n",
    "# partition indexes for keys: A,B,C; with 3 partitions\n",
    "[makeIndex(x, 3) for x in \"ABC\"]"
   ]
  },
  {
   "cell_type": "markdown",
   "metadata": {},
   "source": [
    "A simple strategy to implement an inverse hashCode function is to use a lookup table. For example, assuming we have 3 reducers, we can compute the partition index with makeIndex for keys \"A\", \"B\", and \"C\". The results are listed the the table below.\n",
    "\n",
    "| <strong>Partition Key</strong> | <strong>Partition Index</strong> |\n",
    "|-------------------|---------------------|\n",
    "| A                 | 2                   |\n",
    "| B                 | 0                   |\n",
    "| C                 | 1                   |\n",
    "\n",
    "\n",
    "In the mapper stage, if we want to assign a record to partition 0, for example, we can simply look at the partition key that generated the partition index 0, which in this case is \"B\".\n"
   ]
  },
  {
   "cell_type": "markdown",
   "metadata": {},
   "source": [
    "<h2><a name=\"illustration\">Total Order Sort with ordered partitions - illustrated</a></h2>"
   ]
  },
  {
   "cell_type": "code",
   "execution_count": 8,
   "metadata": {},
   "outputs": [
    {
     "data": {
      "image/png": "[encoded data removed]",
      "text/plain": [
       "<IPython.core.display.Image object>"
      ]
     },
     "execution_count": 8,
     "metadata": {},
     "output_type": "execute_result"
    }
   ],
   "source": [
    "Image(filename=\"tos-step1.png\")"
   ]
  },
  {
   "cell_type": "code",
   "execution_count": 6,
   "metadata": {},
   "outputs": [
    {
     "data": {
      "image/png": "[encoded data removed]",
      "text/plain": [
       "<IPython.core.display.Image object>"
      ]
     },
     "execution_count": 6,
     "metadata": {},
     "output_type": "execute_result"
    }
   ],
   "source": [
    "Image(filename=\"tos-step2.png\")"
   ]
  },
  {
   "cell_type": "code",
   "execution_count": 111,
   "metadata": {},
   "outputs": [
    {
     "data": {
      "image/png": "[encoded data removed]",
      "text/plain": [
       "<IPython.core.display.Image object>"
      ]
     },
     "execution_count": 111,
     "metadata": {},
     "output_type": "execute_result"
    }
   ],
   "source": [
    "Image(filename=\"tos-step3.png\")"
   ]
  },
  {
   "cell_type": "markdown",
   "metadata": {},
   "source": [
    "<h2><a name=\"implementation\">Implementation</a></h2>\n",
    "<a href=\"#top\">Back to top</a>  | <a href=\"#Section3\">Back to Section 3</a>  "
   ]
  },
  {
   "cell_type": "markdown",
   "metadata": {},
   "source": [
    "<h3>Version 2 - The final Total Order Sort with ordered partitions</h3>\n",
    "\n",
    "<h4>What's New</h4>\n",
    "\n",
    "The solution we will delve into is very similar to the one discussed earlier in the  [Hadoop Streaming](#multiple-reducer-hadoop-streaming)  section. The only addition is Step 1B, where we take a desired partition index and craft a custom partition key such that Hadoop's KeyFieldBasedPartitioner hashes it back to the correct index.\n"
   ]
  },
  {
   "cell_type": "code",
   "execution_count": 179,
   "metadata": {},
   "outputs": [
    {
     "data": {
      "image/png": "[encoded data removed]",
      "text/plain": [
       "<IPython.core.display.Image object>"
      ]
     },
     "execution_count": 179,
     "metadata": {},
     "output_type": "execute_result"
    }
   ],
   "source": [
    "Image(\"TotalSortStepsComplete.png\")"
   ]
  },
  {
   "cell_type": "markdown",
   "metadata": {},
   "source": [
    "<em>Figure 6. Total order sort with custom partitioning.</em>"
   ]
  },
  {
   "cell_type": "code",
   "execution_count": 21,
   "metadata": {},
   "outputs": [
    {
     "name": "stdout",
     "output_type": "stream",
     "text": [
      "Overwriting multipleReducerTotalOrderSort_mapper.py\n"
     ]
    }
   ],
   "source": [
    "%%writefile multipleReducerTotalOrderSort_mapper.py\n",
    "#!/usr/bin/env python\n",
    "\"\"\"\n",
    "INPUT:                                                    \n",
    "    count \\t word                \n",
    "OUTPUT:                                                   \n",
    "    partitionKey \\t count \\t word\n",
    "\"\"\"\n",
    "\n",
    "import os\n",
    "import re                                                   \n",
    "import sys                                                  \n",
    "import numpy as np      \n",
    "from operator import itemgetter\n",
    "\n",
    "   \n",
    "N = int(os.getenv('mapreduce_job_reduces', default=1))\n",
    "\n",
    "def makeIndex(key, num_reducers = N):\n",
    "    \"\"\"\n",
    "    Mimic the Hadoop string-hash function.\n",
    "    \n",
    "    key             the key that will be used for partitioning\n",
    "    num_reducers    the number of reducers that will be configured\n",
    "    \"\"\"\n",
    "    byteof = lambda char: int(format(ord(char), 'b'), 2)\n",
    "    current_hash = 0\n",
    "    for c in key:\n",
    "        current_hash = (current_hash * 31 + byteof(c))\n",
    "    return current_hash % num_reducers\n",
    "\n",
    "def makeKeyFile(num_reducers = N):\n",
    "    KEYS = list(map(chr, range(ord('A'), ord('Z')+1)))[:num_reducers]\n",
    "    partition_keys = sorted(KEYS, key=lambda k: makeIndex(k,num_reducers))\n",
    "\n",
    "    return partition_keys\n",
    "\n",
    "\n",
    "# call your helper function to get partition keys\n",
    "pKeys = makeKeyFile()\n",
    "\n",
    "def makePartitionFile():\n",
    "    # returns a list of split points\n",
    "    # For the sake of simplicity this is hardcoded.\n",
    "    # See the sampling section below for more information.\n",
    "    return [20,10,0]\n",
    "\n",
    "pFile = makePartitionFile()\n",
    "\n",
    "for line in sys.stdin: \n",
    "    line = line.strip()\n",
    "    key,value = line.split('\\t')\n",
    "\n",
    "    for idx in range(N):\n",
    "        if float(key) > pFile[idx]:\n",
    "            print(str(pKeys[idx])+\"\\t\"+key+\"\\t\"+value)\n",
    "            break"
   ]
  },
  {
   "cell_type": "code",
   "execution_count": 22,
   "metadata": {},
   "outputs": [
    {
     "name": "stdout",
     "output_type": "stream",
     "text": [
      "Overwriting multipleReducerTotalOrderSort_reducer.py\n"
     ]
    }
   ],
   "source": [
    "%%writefile multipleReducerTotalOrderSort_reducer.py\n",
    "#!/usr/bin/env python\n",
    "\"\"\"\n",
    "INPUT:\n",
    "    partitionKey \\t count \\t word\n",
    "OUTPUT:\n",
    "    count \\t word\n",
    "\"\"\"\n",
    "import sys\n",
    "\n",
    "for line in sys.stdin:\n",
    "    pkey, key, value = line.strip().split('\\t')\n",
    "    print(key,value)"
   ]
  },
  {
   "cell_type": "code",
   "execution_count": 23,
   "metadata": {
    "collapsed": true,
    "jupyter": {
     "outputs_hidden": true
    }
   },
   "outputs": [
    {
     "name": "stdout",
     "output_type": "stream",
     "text": [
      "rm: `/user/root/TOS/sort/total_order_sort': No such file or directory\n",
      "packageJobJar: [] [/usr/lib/hadoop-mapreduce/hadoop-streaming-2.6.0-cdh5.16.2.jar] /tmp/streamjob3403073017835678931.jar tmpDir=null\n",
      "20/05/19 18:19:46 INFO client.RMProxy: Connecting to ResourceManager at /0.0.0.0:8032\n",
      "20/05/19 18:19:47 INFO client.RMProxy: Connecting to ResourceManager at /0.0.0.0:8032\n",
      "20/05/19 18:19:47 INFO mapred.FileInputFormat: Total input paths to process : 1\n",
      "20/05/19 18:19:47 INFO mapreduce.JobSubmitter: number of splits:2\n",
      "20/05/19 18:19:47 INFO mapreduce.JobSubmitter: Submitting tokens for job: job_1589906177930_0005\n",
      "20/05/19 18:19:47 INFO impl.YarnClientImpl: Submitted application application_1589906177930_0005\n",
      "20/05/19 18:19:47 INFO mapreduce.Job: The url to track the job: http://docker.w261:8088/proxy/application_1589906177930_0005/\n",
      "20/05/19 18:19:47 INFO mapreduce.Job: Running job: job_1589906177930_0005\n",
      "20/05/19 18:19:53 INFO mapreduce.Job: Job job_1589906177930_0005 running in uber mode : false\n",
      "20/05/19 18:19:53 INFO mapreduce.Job:  map 0% reduce 0%\n",
      "20/05/19 18:20:01 INFO mapreduce.Job:  map 50% reduce 0%\n",
      "20/05/19 18:20:02 INFO mapreduce.Job:  map 100% reduce 0%\n",
      "20/05/19 18:20:07 INFO mapreduce.Job:  map 100% reduce 33%\n",
      "20/05/19 18:20:08 INFO mapreduce.Job:  map 100% reduce 67%\n",
      "20/05/19 18:20:09 INFO mapreduce.Job:  map 100% reduce 100%\n",
      "20/05/19 18:20:09 INFO mapreduce.Job: Job job_1589906177930_0005 completed successfully\n",
      "20/05/19 18:20:09 INFO mapreduce.Job: Counters: 49\n",
      "\tFile System Counters\n",
      "\t\tFILE: Number of bytes read=498\n",
      "\t\tFILE: Number of bytes written=755320\n",
      "\t\tFILE: Number of read operations=0\n",
      "\t\tFILE: Number of large read operations=0\n",
      "\t\tFILE: Number of write operations=0\n",
      "\t\tHDFS: Number of bytes read=794\n",
      "\t\tHDFS: Number of bytes written=368\n",
      "\t\tHDFS: Number of read operations=15\n",
      "\t\tHDFS: Number of large read operations=0\n",
      "\t\tHDFS: Number of write operations=6\n",
      "\tJob Counters \n",
      "\t\tLaunched map tasks=2\n",
      "\t\tLaunched reduce tasks=3\n",
      "\t\tData-local map tasks=2\n",
      "\t\tTotal time spent by all maps in occupied slots (ms)=6397\n",
      "\t\tTotal time spent by all reduces in occupied slots (ms)=10867\n",
      "\t\tTotal time spent by all map tasks (ms)=6397\n",
      "\t\tTotal time spent by all reduce tasks (ms)=10867\n",
      "\t\tTotal vcore-milliseconds taken by all map tasks=6397\n",
      "\t\tTotal vcore-milliseconds taken by all reduce tasks=10867\n",
      "\t\tTotal megabyte-milliseconds taken by all map tasks=6550528\n",
      "\t\tTotal megabyte-milliseconds taken by all reduce tasks=11127808\n",
      "\tMap-Reduce Framework\n",
      "\t\tMap input records=30\n",
      "\t\tMap output records=28\n",
      "\t\tMap output bytes=424\n",
      "\t\tMap output materialized bytes=516\n",
      "\t\tInput split bytes=252\n",
      "\t\tCombine input records=0\n",
      "\t\tCombine output records=0\n",
      "\t\tReduce input groups=28\n",
      "\t\tReduce shuffle bytes=516\n",
      "\t\tReduce input records=28\n",
      "\t\tReduce output records=28\n",
      "\t\tSpilled Records=56\n",
      "\t\tShuffled Maps =6\n",
      "\t\tFailed Shuffles=0\n",
      "\t\tMerged Map outputs=6\n",
      "\t\tGC time elapsed (ms)=181\n",
      "\t\tCPU time spent (ms)=3920\n",
      "\t\tPhysical memory (bytes) snapshot=1246547968\n",
      "\t\tVirtual memory (bytes) snapshot=6891323392\n",
      "\t\tTotal committed heap usage (bytes)=1459093504\n",
      "\tShuffle Errors\n",
      "\t\tBAD_ID=0\n",
      "\t\tCONNECTION=0\n",
      "\t\tIO_ERROR=0\n",
      "\t\tWRONG_LENGTH=0\n",
      "\t\tWRONG_MAP=0\n",
      "\t\tWRONG_REDUCE=0\n",
      "\tFile Input Format Counters \n",
      "\t\tBytes Read=542\n",
      "\tFile Output Format Counters \n",
      "\t\tBytes Written=368\n",
      "20/05/19 18:20:09 INFO streaming.StreamJob: Output directory: /user/root/TOS/sort/total_order_sort\n"
     ]
    }
   ],
   "source": [
    "!hdfs dfs -rm -r {HDFS_DIR}/sort/total_order_sort\n",
    "!hadoop jar {JAR_FILE} \\\n",
    "    -D stream.num.map.output.key.fields=3 \\\n",
    "    -D stream.map.output.field.separator=\"\\t\" \\\n",
    "    -D mapreduce.partition.keypartitioner.options=-k1,1 \\\n",
    "    -D mapreduce.job.output.key.comparator.class=org.apache.hadoop.mapred.lib.KeyFieldBasedComparator \\\n",
    "    -D mapreduce.partition.keycomparator.options=\"-k2,2nr -k3,3\" \\\n",
    "    -files multipleReducerTotalOrderSort_mapper.py,multipleReducerTotalOrderSort_reducer.py \\\n",
    "    -mapper multipleReducerTotalOrderSort_mapper.py \\\n",
    "    -reducer multipleReducerTotalOrderSort_reducer.py \\\n",
    "    -input {HDFS_DIR}/sort/generate_numbers.output \\\n",
    "    -output {HDFS_DIR}/sort/total_order_sort \\\n",
    "    -numReduceTasks 3 \\\n",
    "    -partitioner org.apache.hadoop.mapred.lib.KeyFieldBasedPartitioner \\\n",
    "    -cmdenv PATH={PATH}"
   ]
  },
  {
   "cell_type": "code",
   "execution_count": 24,
   "metadata": {},
   "outputs": [
    {
     "name": "stdout",
     "output_type": "stream",
     "text": [
      "====================================================================================================\n",
      "Total Order Sort with multiple reducers - notice that the part files are also in order.\n",
      "====================================================================================================\n",
      "/part-00000\n",
      "----------------------------------------------------------------------------------------------------\n",
      "30  center\t\n",
      "30  corresponding\t\n",
      "30  driver\t\n",
      "29  cell\t\n",
      "29  drivers\t\n",
      "28  contour\t\n",
      "28  descent\t\n",
      "28  develop\t\n",
      "26  dataset\t\n",
      "24  consists\t\n",
      "24  evaluate\t\n",
      "23  clustering\t\n",
      "23  experiements\t\n",
      "----------------------------------------------------------------------------------------------------\n",
      "/part-00001\n",
      "----------------------------------------------------------------------------------------------------\n",
      "20  def\t\n",
      "19  efficient\t\n",
      "17  computing\t\n",
      "17  document\t\n",
      "16  done\t\n",
      "12  during\t\n",
      "----------------------------------------------------------------------------------------------------\n",
      "/part-00002\n",
      "----------------------------------------------------------------------------------------------------\n",
      "9  computational\t\n",
      "8  do\t\n",
      "4  compute\t\n",
      "4  descent\t\n",
      "3  current\t\n",
      "2  change\t\n",
      "2  cluster\t\n",
      "1  creating\t\n",
      "1  distributed\t\n"
     ]
    }
   ],
   "source": [
    "print (\"=\"*100)\n",
    "print (\"Total Order Sort with multiple reducers - notice that the part files are also in order.\")\n",
    "print (\"=\"*100)\n",
    "print (\"/part-00000\")\n",
    "print (\"-\"*100)\n",
    "!hdfs dfs -cat {HDFS_DIR}/sort/total_order_sort/part-00000\n",
    "print (\"-\"*100)\n",
    "print (\"/part-00001\")\n",
    "print (\"-\"*100)\n",
    "!hdfs dfs -cat {HDFS_DIR}/sort/total_order_sort/part-00001\n",
    "print (\"-\"*100)\n",
    "print (\"/part-00002\")\n",
    "print (\"-\"*100)\n",
    "!hdfs dfs -cat {HDFS_DIR}/sort/total_order_sort/part-00002\n"
   ]
  },
  {
   "cell_type": "markdown",
   "metadata": {},
   "source": [
    "<a name=\"illustration\"></a>"
   ]
  },
  {
   "cell_type": "markdown",
   "metadata": {},
   "source": [
    "<h3>Total Order Sort results</h3>\n",
    "We now have exactly what we were looking for. Total Order Sort, with the added benefit of ordered partitions. Notice that the top results are stored in part-00000, the next set of results is stored in part-00001, etc.."
   ]
  },
  {
   "cell_type": "markdown",
   "metadata": {},
   "source": [
    "<h1><a name=\"Section4\">Section III - Sampling Key Spaces</a></h1>\n",
    "<a href=\"#top\">Back to top</a>   \n",
    "\n",
    "Previously, we used a partition file which assumed our key space was uniformly distributed. In reality this is rarely the case, and we should make our partition file based on the actual distribution of the data to avoid bottlenecks. A bottleneck would occur if the majority of our data resided in a single bucket, as could happen with a typical power law distribution.\n",
    "\n",
    "Consider the following example:"
   ]
  },
  {
   "cell_type": "code",
   "execution_count": 15,
   "metadata": {},
   "outputs": [
    {
     "name": "stdout",
     "output_type": "stream",
     "text": [
      "(1000000,)\n"
     ]
    }
   ],
   "source": [
    "import random\n",
    "import numpy as np\n",
    "\n",
    "# Create a skewed distribution\n",
    "# make 750,000 numbers between 0-10\n",
    "# make 200,000 numbers between 10-20\n",
    "# make 50,000 numbers between 20-30\n",
    "\n",
    "A = np.random.uniform(0,10,750000)\n",
    "B = np.random.uniform(10,20,200000)\n",
    "C = np.random.uniform(20,30,50000)\n",
    "\n",
    "ALL = np.hstack((A,B,C))\n",
    "print(ALL.shape)"
   ]
  },
  {
   "cell_type": "code",
   "execution_count": 119,
   "metadata": {},
   "outputs": [
    {
     "data": {
      "image/png": "[encoded data removed]",
      "text/plain": [
       "<Figure size 720x432 with 1 Axes>"
      ]
     },
     "metadata": {
      "needs_background": "light"
     },
     "output_type": "display_data"
    }
   ],
   "source": [
    "# Visualizae data distribution\n",
    "%matplotlib inline\n",
    "import pylab as pl\n",
    "fig, ax = pl.subplots(figsize=(10,6))\n",
    "\n",
    "ax.hist(ALL,color=\"#48afe0\",edgecolor='none')\n",
    "\n",
    "xcoords = [10,20,30]\n",
    "for xc in xcoords:\n",
    "    pl.axvline(x=xc,color=\"#197f74\", linewidth=1)\n",
    "\n",
    "ax.spines['top'].set_visible(False)\n",
    "ax.spines['right'].set_visible(False)\n",
    "ax.spines['bottom'].set_visible(False)\n",
    "ax.spines['left'].set_visible(False)\n",
    "\n",
    "\n",
    "pl.title(\"3 Uniformly Spaced Buckets\")\n",
    "pl.show()"
   ]
  },
  {
   "cell_type": "markdown",
   "metadata": {},
   "source": [
    "<em>Figure 7. Uniform partitions over skewed data.</em>\n",
    "\n",
    "If we made a uniform partition file the (above example has 3 buckets), we would end up with most of the data in a single reducer, and this would create a bottle neck. To fix this, we must create a partition file that distributes the keys more evenly.\n"
   ]
  },
  {
   "cell_type": "markdown",
   "metadata": {},
   "source": [
    "The challenge is that when our dataset set is large, creating the partition file can be costly. But as long as we know the shape of the distribution, we don't need the whole dataset to create resonable partitions. Next we'll look at two ways to take a random sample of a large datset. "
   ]
  },
  {
   "cell_type": "markdown",
   "metadata": {},
   "source": [
    "<h4>Key points:</h4>\n",
    "<ol>\n",
    "<li><a name=\"randomsampling\"><b>Simple Random Sampling</b></a> - Easy implementation when we know the total size of the data</li>\n",
    "<li><a name=\"reservoirsampling\"><b>Reservoir Sampling</b></a> - A method to sample the data with equal probablity for all data points when the size of the data is unknown. The algorithm works as follows:\n",
    "    <pre>\n",
    "    n = desired sample size\n",
    "    reservoir = []\n",
    "    for d in data\n",
    "        if reservoir size < n\n",
    "            add d to reservoir\n",
    "        else:\n",
    "            choose random location in reservoir\n",
    "            flip coin whether to replace the exisiting d with new d\n",
    "    </pre>\n",
    "    \n",
    "    \n",
    "</li>\n",
    "</ol>\n",
    "(This paper has a nice explanation of reservoir sampling, see: 2.2 Density-Biased Reservoir Sampling http://science.sut.ac.th/mathematics/pairote/uploadfiles/weightedkm-temp2_EB.pdf.)   "
   ]
  },
  {
   "cell_type": "markdown",
   "metadata": {},
   "source": [
    "<h2><a name=\"III.A\">III.A. Random Sample implementation</a></h2>\n",
    "<a href=\"#top\">Back to top</a>\n"
   ]
  },
  {
   "cell_type": "code",
   "execution_count": 17,
   "metadata": {},
   "outputs": [],
   "source": [
    "# write numpy aray to file\n",
    "np.savetxt('randomNumbers.out', ALL, fmt='%.18f')"
   ]
  },
  {
   "cell_type": "code",
   "execution_count": 18,
   "metadata": {},
   "outputs": [
    {
     "name": "stdout",
     "output_type": "stream",
     "text": [
      "rm: `/user/root/TOS/sort/random_numbers': No such file or directory\n"
     ]
    }
   ],
   "source": [
    "# put file in HDFS\n",
    "!hdfs dfs -rm -r {HDFS_DIR}/sort/random_numbers\n",
    "!hdfs dfs -put randomNumbers.out {HDFS_DIR}/sort/random_numbers"
   ]
  },
  {
   "cell_type": "code",
   "execution_count": 19,
   "metadata": {},
   "outputs": [
    {
     "name": "stdout",
     "output_type": "stream",
     "text": [
      "Overwriting RandomSample.py\n"
     ]
    }
   ],
   "source": [
    "%%writefile RandomSample.py\n",
    "#!/usr/bin/env python\n",
    "\n",
    "import sys\n",
    "import numpy as np\n",
    "\n",
    "#########################################################\n",
    "#  Emit a random sample of 1/100th of the data\n",
    "#########################################################\n",
    "\n",
    "for line in sys.stdin:\n",
    "    s = np.random.uniform(0,1)\n",
    "    if s < .01: \n",
    "        print(line.strip())"
   ]
  },
  {
   "cell_type": "code",
   "execution_count": 20,
   "metadata": {
    "collapsed": true,
    "jupyter": {
     "outputs_hidden": true
    }
   },
   "outputs": [
    {
     "name": "stdout",
     "output_type": "stream",
     "text": [
      "rm: `/user/root/TOS/sort/sampleData': No such file or directory\n",
      "packageJobJar: [] [/usr/lib/hadoop-mapreduce/hadoop-streaming-2.6.0-cdh5.16.2.jar] /tmp/streamjob2041614838548135011.jar tmpDir=null\n",
      "20/05/21 10:56:47 INFO client.RMProxy: Connecting to ResourceManager at /0.0.0.0:8032\n",
      "20/05/21 10:56:47 INFO client.RMProxy: Connecting to ResourceManager at /0.0.0.0:8032\n",
      "20/05/21 10:56:48 INFO mapred.FileInputFormat: Total input paths to process : 1\n",
      "20/05/21 10:56:48 INFO mapreduce.JobSubmitter: number of splits:2\n",
      "20/05/21 10:56:49 INFO mapreduce.JobSubmitter: Submitting tokens for job: job_1590009070447_0002\n",
      "20/05/21 10:56:50 INFO impl.YarnClientImpl: Submitted application application_1590009070447_0002\n",
      "20/05/21 10:56:50 INFO mapreduce.Job: The url to track the job: http://docker.w261:8088/proxy/application_1590009070447_0002/\n",
      "20/05/21 10:56:50 INFO mapreduce.Job: Running job: job_1590009070447_0002\n",
      "20/05/21 10:57:02 INFO mapreduce.Job: Job job_1590009070447_0002 running in uber mode : false\n",
      "20/05/21 10:57:02 INFO mapreduce.Job:  map 0% reduce 0%\n",
      "20/05/21 10:57:13 INFO mapreduce.Job:  map 100% reduce 0%\n",
      "20/05/21 10:57:13 INFO mapreduce.Job: Job job_1590009070447_0002 completed successfully\n",
      "20/05/21 10:57:14 INFO mapreduce.Job: Counters: 30\n",
      "\tFile System Counters\n",
      "\t\tFILE: Number of bytes read=0\n",
      "\t\tFILE: Number of bytes written=297514\n",
      "\t\tFILE: Number of read operations=0\n",
      "\t\tFILE: Number of large read operations=0\n",
      "\t\tFILE: Number of write operations=0\n",
      "\t\tHDFS: Number of bytes read=21254330\n",
      "\t\tHDFS: Number of bytes written=223326\n",
      "\t\tHDFS: Number of read operations=10\n",
      "\t\tHDFS: Number of large read operations=0\n",
      "\t\tHDFS: Number of write operations=4\n",
      "\tJob Counters \n",
      "\t\tLaunched map tasks=2\n",
      "\t\tData-local map tasks=2\n",
      "\t\tTotal time spent by all maps in occupied slots (ms)=15289\n",
      "\t\tTotal time spent by all reduces in occupied slots (ms)=0\n",
      "\t\tTotal time spent by all map tasks (ms)=15289\n",
      "\t\tTotal vcore-milliseconds taken by all map tasks=15289\n",
      "\t\tTotal megabyte-milliseconds taken by all map tasks=15655936\n",
      "\tMap-Reduce Framework\n",
      "\t\tMap input records=1000000\n",
      "\t\tMap output records=10034\n",
      "\t\tInput split bytes=234\n",
      "\t\tSpilled Records=0\n",
      "\t\tFailed Shuffles=0\n",
      "\t\tMerged Map outputs=0\n",
      "\t\tGC time elapsed (ms)=127\n",
      "\t\tCPU time spent (ms)=3700\n",
      "\t\tPhysical memory (bytes) snapshot=422944768\n",
      "\t\tVirtual memory (bytes) snapshot=2779865088\n",
      "\t\tTotal committed heap usage (bytes)=452984832\n",
      "\tFile Input Format Counters \n",
      "\t\tBytes Read=21254096\n",
      "\tFile Output Format Counters \n",
      "\t\tBytes Written=223326\n",
      "20/05/21 10:57:14 INFO streaming.StreamJob: Output directory: /user/root/TOS/sort/sampleData\n"
     ]
    }
   ],
   "source": [
    "!hdfs dfs -rm -r {HDFS_DIR}/sort/sampleData\n",
    "!hadoop jar {JAR_FILE} \\\n",
    "    -files RandomSample.py \\\n",
    "    -mapper RandomSample.py \\\n",
    "    -input {HDFS_DIR}/sort/random_numbers \\\n",
    "    -output {HDFS_DIR}/sort/sampleData \\\n",
    "    -numReduceTasks 0 \\\n",
    "    -cmdenv PATH={PATH}"
   ]
  },
  {
   "cell_type": "code",
   "execution_count": 21,
   "metadata": {},
   "outputs": [
    {
     "name": "stdout",
     "output_type": "stream",
     "text": [
      "Found 3 items\n",
      "-rw-r--r--   1 root supergroup          0 2020-05-21 10:57 /user/root/TOS/sort/sampleData/_SUCCESS\n",
      "-rw-r--r--   1 root supergroup     111430 2020-05-21 10:57 /user/root/TOS/sort/sampleData/part-00000\n",
      "-rw-r--r--   1 root supergroup     111896 2020-05-21 10:57 /user/root/TOS/sort/sampleData/part-00001\n"
     ]
    }
   ],
   "source": [
    "!hdfs dfs -ls {HDFS_DIR}/sort/sampleData/"
   ]
  },
  {
   "cell_type": "code",
   "execution_count": 22,
   "metadata": {},
   "outputs": [],
   "source": [
    "!hdfs dfs -cat {HDFS_DIR}/sort/sampleData/part-* > sampleData.txt"
   ]
  },
  {
   "cell_type": "code",
   "execution_count": 23,
   "metadata": {},
   "outputs": [
    {
     "name": "stdout",
     "output_type": "stream",
     "text": [
      "6.219041831485558447\t\n",
      "6.686344258768484039\t\n",
      "6.769544208921161932\t\n",
      "7.639744831367128342\t\n",
      "2.139872044496024195\t\n",
      "3.798373714588547667\t\n",
      "2.678375024342094513\t\n",
      "6.667164453774735655\t\n",
      "0.708364758734653099\t\n",
      "1.880770912957316909\t\n",
      "cat: write error: Broken pipe\n"
     ]
    }
   ],
   "source": [
    "!cat sampleData.txt | head"
   ]
  },
  {
   "cell_type": "code",
   "execution_count": 24,
   "metadata": {},
   "outputs": [
    {
     "name": "stdout",
     "output_type": "stream",
     "text": [
      "28.039338755785088608\t\n",
      "25.345290806645600412\t\n",
      "26.379113474443627751\t\n",
      "29.636694380239692492\t\n",
      "26.722319640328059620\t\n",
      "29.877321118626916530\t\n",
      "28.115086968783938204\t\n",
      "24.174899488857747087\t\n",
      "21.898206840176925425\t\n",
      "26.753814102971556821\t\n"
     ]
    }
   ],
   "source": [
    "!cat sampleData.txt | tail"
   ]
  },
  {
   "cell_type": "markdown",
   "metadata": {},
   "source": [
    "<h2><a name=\"III.B\">III.A. Reservoir Sample implementation</a></h2>\n",
    "<a href=\"#top\">Back to top</a>"
   ]
  },
  {
   "cell_type": "markdown",
   "metadata": {},
   "source": [
    "### Review of Reservoir Sampling\n",
    "\n",
    "\n",
    "Reservoir sampling ensures that each datum in the stream will be sampled with the same equal probability, and this is property makes the process true random sampling.\n",
    "\n",
    "\n",
    "Let $N$ be the unknown length of the stream, and suppose we desire a random sample of size $n < N$. Furthermore, let $R$ denote the set of element indices which are in the reservoir at the end of the sampling process. \n",
    "\n",
    "`Description`: To begin, the first $n$ elements, elements $1,2,3 ...$ up to element $n$ get put in the reservoir in the form of a list. Next, the algorithm iterates through each element $i$ that comes after the $n^{th}$ element and considers putting it in the reservoir. When the algorithm is considering whether to place an element $i$ with $i >n$ in the reservoir, the algorithm takes a random index $J_i$ between $1$ and $i$ inclusively, that is $J_i \\sim Unif\\{1,..., i\\}$. If $J_i \\leq n$ then the currrent $J_i^{th}$ element of reservoir list is swapped with element $i$. If $J_i > n$ the algorithm doesn't do any swapping and proceeds to consider element $i+1$.\n",
    "\n",
    "`Claim`: Each element in the stream has chance $\\frac{n}{N}$ of being sampled (this means $k \\in R$ by the end), thus making the sample a truly random sample.\n",
    "\n",
    "`Proof`: Consider the $k^{th}$ element of the stream.\n",
    "\n",
    "> Case 1: Suppose that $k \\in \\{1,2,...,n\\}$. So element $k$ is one of the first elements to fill the reservoir to begin with. For element $k$ to end up in the final sample, element $k$ must not be replaced by any incoming elements of the stream. Let's find the chance that by the end of the process, $k$ is in the sample, $\\mathbb{P}(k \\in R)$:\n",
    "\n",
    "\\begin{align*}\n",
    "\\mathbb{P}(k \\in R) \n",
    "& = \\cap_{i = n+1}^N \\mathbb{P}(J_i \\neq k) \\\\\n",
    "& = \\cap_{i = n+1}^N \\frac{i-1}{i} \\\\\n",
    "& = \\frac{(n)(n+1)(n+2) \\cdot \\cdot \\cdot (N-1)}{(n+1)(n+2) \\cdot \\cdot \\cdot (N)} \\\\\n",
    "& = \\frac{n}{N}\n",
    "\\end{align*}\n",
    "\n",
    "> Case 2: Suppose that $k > n$. So $k$ is not in the reservoir to begin with. When element $k$ is being considered for the reservoir, it must be swapped with some element that is currently in the reservoir in order to have $k$ end up in the final sample. After $k$ has replaced another element in the reservoir, element $k$ must not be replaced by any element that follows it.\n",
    "\n",
    "\\begin{align*}\n",
    "\\mathbb{P}(k \\in R) \n",
    "& = \\mathbb{P}(J_k \\leq n) \\cap_{i = k+1}^N \\mathbb{P}(J_i \\neq k) \\\\\n",
    "& = \\frac{n}{k} \\cap_{i = k+1}^N \\frac{i-1}{i} \\\\\n",
    "& = \\frac{n}{k} \\cdot \\frac{(k)(k+1)(k+2) \\cdot \\cdot \\cdot (N-1)}{(k+1)(k+2) \\cdot \\cdot \\cdot (N)} \\\\\n",
    "& = \\frac{n}{k} \\cdot \\frac{k}{N} \\\\\n",
    "& = \\frac{n}{N}\n",
    "\\end{align*}"
   ]
  },
  {
   "cell_type": "markdown",
   "metadata": {},
   "source": [
    "The following code block creates a small data set for unit/systems testing:"
   ]
  },
  {
   "cell_type": "code",
   "execution_count": 140,
   "metadata": {},
   "outputs": [
    {
     "name": "stdout",
     "output_type": "stream",
     "text": [
      "Overwriting numberPopulationTest.txt\n"
     ]
    }
   ],
   "source": [
    "%%writefile numberPopulationTest.txt\n",
    "3\n",
    "55\n",
    "6\n",
    "4\n",
    "10\n",
    "2\n",
    "1\n",
    "67\n",
    "3\n",
    "20\n",
    "9\n",
    "19\n",
    "11\n",
    "0\n",
    "88"
   ]
  },
  {
   "cell_type": "markdown",
   "metadata": {},
   "source": [
    "### Naive Implementation\n",
    "In its most basic form, a reservoir sampling algorithm keeps a list of datapoints (the reservoir) in memory. Unfrotunately, this version doesn't scale to multiple mappers, and thus is not fit for purpose. Here it is just for reference:"
   ]
  },
  {
   "cell_type": "code",
   "execution_count": 143,
   "metadata": {},
   "outputs": [
    {
     "name": "stdout",
     "output_type": "stream",
     "text": [
      "Overwriting ReservoirSample.py\n"
     ]
    }
   ],
   "source": [
    "%%writefile ReservoirSample.py\n",
    "#!/usr/bin/env python\n",
    "\n",
    "import sys\n",
    "import numpy as np\n",
    "\n",
    "#########################################################\n",
    "#  Sample n numbers uniformly at random\n",
    "#########################################################\n",
    "\n",
    "print(sys.argv)\n",
    "\n",
    "R = 5 # size of the reservoir\n",
    "res = [] # reservoir\n",
    "\n",
    "for i, line in enumerate(sys.stdin):\n",
    "    num = line.strip()\n",
    "    if len(res) < R:\n",
    "        res.append(num)\n",
    "    else:\n",
    "        j = np.random.randint(i)\n",
    "        if j < R:\n",
    "            res[j] = num\n",
    "\n",
    "# print \n",
    "for j in res:\n",
    "    print(j)"
   ]
  },
  {
   "cell_type": "code",
   "execution_count": 145,
   "metadata": {},
   "outputs": [
    {
     "name": "stdout",
     "output_type": "stream",
     "text": [
      "['ReservoirSample.py']\n",
      "11\n",
      "20\n",
      "6\n",
      "2\n",
      "10\n"
     ]
    }
   ],
   "source": [
    "# Systems test\n",
    "!python ReservoirSample.py < numberPopulationTest.txt"
   ]
  },
  {
   "cell_type": "markdown",
   "metadata": {},
   "source": [
    "### Parallel & Scalable Implementation Using Hadoop MapReduce\n",
    "\n",
    "To implement reservoir sampling in a scalable way, we need to avoid holding the reservoir in memory. \n",
    "The core insight behind reservoir sampling is that picking a random sample of size R is equivalent to generating a random permutation (ordering) of the elements and picking the top R elements.\n",
    "\n",
    "In the implementation below, leveraging secondary sort on random variate `i`, we can gaurantee that the top R elements are chosen by the reducers.\n",
    "\n",
    "\n",
    "This can be done by first mapping over each data point `n` and emitting:\n",
    "1. the data point itself, `n` \n",
    "2. the index `j` in the reservoir which `n` would occupy (if it were chosen to be swapped into the reservoir)\n",
    "3. the index `i` of the data point in the stream \n",
    "\n",
    "Note that if `i` is less than the sample size, the data point should be automatically added to the reservoir at index `i`. So for these numbers, the mapper should emit `n`, `i`, `i`.\n",
    "\n",
    "Next the reducers need to determine which data point will occupy the `j` location (for every location `j` in the reservoir) from among the data points that were assigned to swap into the `j` position in the reservoir. In the original algorithm, the data point that ultimately occupies the `j` position is the last data point in the stream that is assigned to swap into the `j` position. Therefore, in the reduce phase, the data point which gets printed for the `j` position should be, from among the data points with reservoir index `j`, the data point with the highest `i`, because this data point would have been the last element in the original stream.\n",
    "\n",
    "In order for the reducers to be able to achieve this in a stateless manner, the intermediate key-value pairs should be partitioned by `j`, and then they should be sorted primarily by `j` and secondarily by `i` within each partition. \n",
    "\n",
    "An implementation of the required mapper and reducer for scalable and parallizable reservoir sampling is below:"
   ]
  },
  {
   "cell_type": "code",
   "execution_count": 146,
   "metadata": {},
   "outputs": [
    {
     "name": "stdout",
     "output_type": "stream",
     "text": [
      "Overwriting ReservoirSample_mapper.py\n"
     ]
    }
   ],
   "source": [
    "%%writefile ReservoirSample_mapper.py\n",
    "#!/usr/bin/env python\n",
    "\"\"\"\n",
    "INPUT:                                                    \n",
    "    data point  \n",
    "    R -> size of the reservoir\n",
    "OUTPUT:                                                   \n",
    "    data point \\t reservoirIndex(j) \\t streamIndex(i) \n",
    "\"\"\"\n",
    "import os\n",
    "import sys\n",
    "import numpy as np\n",
    "\n",
    "\n",
    "if os.getenv('R') == None:\n",
    "    R = 3\n",
    "else:\n",
    "    R = int(os.getenv('R'))\n",
    "\n",
    "for i, line in enumerate(sys.stdin):\n",
    "    num = line.strip()\n",
    "    \n",
    "    if i < R:\n",
    "        print(f'{num}\\t{i}\\t{i}')\n",
    "    else:\n",
    "        j = np.random.randint(i) \n",
    "        if j < R: \n",
    "            print(f'{num}\\t{j}\\t{i}')"
   ]
  },
  {
   "cell_type": "code",
   "execution_count": 147,
   "metadata": {},
   "outputs": [
    {
     "name": "stdout",
     "output_type": "stream",
     "text": [
      "Overwriting ReservoirSample_reducer.py\n"
     ]
    }
   ],
   "source": [
    "%%writefile ReservoirSample_reducer.py\n",
    "#!/usr/bin/env python\n",
    "\n",
    "\"\"\"\n",
    "INPUT:                                                    \n",
    "    data point \\t reservoirIndex(j) \\t streamIndex(i)             \n",
    "OUTPUT:                                                   \n",
    "    data point\n",
    "    \n",
    "Requirement: the inputs must be sorted with the \n",
    "following option: -k2,2 -k3,3n. This way all of \n",
    "records associated with position j in the reservoir\n",
    "are consecutive and the one that will occupy position\n",
    "j in the reservoir at the end is the one with the\n",
    "highest stream index (the one that came last in\n",
    "the original stream)\n",
    "\"\"\"\n",
    "\n",
    "\n",
    "import sys\n",
    "\n",
    "current_j = None\n",
    "current_num = None\n",
    "\n",
    "for i, line in enumerate(sys.stdin):\n",
    "    num, j, i = line.strip().split('\\t')\n",
    "    \n",
    "    if current_j == j:\n",
    "        current_num = num\n",
    "    else:\n",
    "        if current_j is not None:\n",
    "            print(current_num)\n",
    "        current_j = j\n",
    "        current_num = num\n",
    "        \n",
    "print(current_num)"
   ]
  },
  {
   "cell_type": "code",
   "execution_count": 148,
   "metadata": {},
   "outputs": [],
   "source": [
    "!chmod +x ReservoirSample_mapper.py\n",
    "!chmod +x ReservoirSample_reducer.py"
   ]
  },
  {
   "cell_type": "code",
   "execution_count": 180,
   "metadata": {},
   "outputs": [],
   "source": [
    "!cat numberPopulationTest.txt | ./ReservoirSample_mapper.py | sort -k2,2n -k3,3n > mapper.out"
   ]
  },
  {
   "cell_type": "code",
   "execution_count": 181,
   "metadata": {},
   "outputs": [
    {
     "name": "stdout",
     "output_type": "stream",
     "text": [
      "3\t0\t0\n",
      "10\t0\t4\n",
      "2\t0\t5\n",
      "20\t0\t9\n",
      "55\t1\t1\n",
      "3\t1\t8\n",
      "6\t2\t2\n",
      "4\t2\t3\n"
     ]
    }
   ],
   "source": [
    "!cat mapper.out"
   ]
  },
  {
   "cell_type": "code",
   "execution_count": 182,
   "metadata": {},
   "outputs": [
    {
     "name": "stdout",
     "output_type": "stream",
     "text": [
      "20\n",
      "3\n",
      "4\n"
     ]
    }
   ],
   "source": [
    "!cat mapper.out | ./ReservoirSample_reducer.py"
   ]
  },
  {
   "cell_type": "code",
   "execution_count": 183,
   "metadata": {
    "collapsed": true,
    "jupyter": {
     "outputs_hidden": true
    }
   },
   "outputs": [
    {
     "name": "stdout",
     "output_type": "stream",
     "text": [
      "Deleted /user/root/TOS/sort/resSampleData\n",
      "packageJobJar: [] [/usr/lib/hadoop-mapreduce/hadoop-streaming-2.6.0-cdh5.16.2.jar] /tmp/streamjob7123320903685861172.jar tmpDir=null\n",
      "20/05/26 14:08:03 INFO client.RMProxy: Connecting to ResourceManager at /0.0.0.0:8032\n",
      "20/05/26 14:08:03 INFO client.RMProxy: Connecting to ResourceManager at /0.0.0.0:8032\n",
      "20/05/26 14:08:04 INFO mapred.FileInputFormat: Total input paths to process : 1\n",
      "20/05/26 14:08:04 INFO mapreduce.JobSubmitter: number of splits:2\n",
      "20/05/26 14:08:04 INFO mapreduce.JobSubmitter: Submitting tokens for job: job_1590009070447_0047\n",
      "20/05/26 14:08:05 INFO impl.YarnClientImpl: Submitted application application_1590009070447_0047\n",
      "20/05/26 14:08:05 INFO mapreduce.Job: The url to track the job: http://docker.w261:8088/proxy/application_1590009070447_0047/\n",
      "20/05/26 14:08:05 INFO mapreduce.Job: Running job: job_1590009070447_0047\n",
      "20/05/26 14:08:14 INFO mapreduce.Job: Job job_1590009070447_0047 running in uber mode : false\n",
      "20/05/26 14:08:14 INFO mapreduce.Job:  map 0% reduce 0%\n",
      "20/05/26 14:08:28 INFO mapreduce.Job:  map 50% reduce 0%\n",
      "20/05/26 14:08:29 INFO mapreduce.Job:  map 100% reduce 0%\n",
      "20/05/26 14:08:38 INFO mapreduce.Job:  map 100% reduce 25%\n",
      "20/05/26 14:08:40 INFO mapreduce.Job:  map 100% reduce 50%\n",
      "20/05/26 14:08:41 INFO mapreduce.Job:  map 100% reduce 100%\n",
      "20/05/26 14:08:42 INFO mapreduce.Job: Job job_1590009070447_0047 completed successfully\n",
      "20/05/26 14:08:42 INFO mapreduce.Job: Counters: 50\n",
      "\tFile System Counters\n",
      "\t\tFILE: Number of bytes read=476364\n",
      "\t\tFILE: Number of bytes written=1857040\n",
      "\t\tFILE: Number of read operations=0\n",
      "\t\tFILE: Number of large read operations=0\n",
      "\t\tFILE: Number of write operations=0\n",
      "\t\tHDFS: Number of bytes read=21254330\n",
      "\t\tHDFS: Number of bytes written=22356\n",
      "\t\tHDFS: Number of read operations=18\n",
      "\t\tHDFS: Number of large read operations=0\n",
      "\t\tHDFS: Number of write operations=8\n",
      "\tJob Counters \n",
      "\t\tKilled reduce tasks=1\n",
      "\t\tLaunched map tasks=2\n",
      "\t\tLaunched reduce tasks=4\n",
      "\t\tData-local map tasks=2\n",
      "\t\tTotal time spent by all maps in occupied slots (ms)=22567\n",
      "\t\tTotal time spent by all reduces in occupied slots (ms)=30004\n",
      "\t\tTotal time spent by all map tasks (ms)=22567\n",
      "\t\tTotal time spent by all reduce tasks (ms)=30004\n",
      "\t\tTotal vcore-milliseconds taken by all map tasks=22567\n",
      "\t\tTotal vcore-milliseconds taken by all reduce tasks=30004\n",
      "\t\tTotal megabyte-milliseconds taken by all map tasks=23108608\n",
      "\t\tTotal megabyte-milliseconds taken by all reduce tasks=30724096\n",
      "\tMap-Reduce Framework\n",
      "\t\tMap input records=1000000\n",
      "\t\tMap output records=14206\n",
      "\t\tMap output bytes=447928\n",
      "\t\tMap output materialized bytes=476388\n",
      "\t\tInput split bytes=234\n",
      "\t\tCombine input records=0\n",
      "\t\tCombine output records=0\n",
      "\t\tReduce input groups=14206\n",
      "\t\tReduce shuffle bytes=476388\n",
      "\t\tReduce input records=14206\n",
      "\t\tReduce output records=1000\n",
      "\t\tSpilled Records=28412\n",
      "\t\tShuffled Maps =8\n",
      "\t\tFailed Shuffles=0\n",
      "\t\tMerged Map outputs=8\n",
      "\t\tGC time elapsed (ms)=343\n",
      "\t\tCPU time spent (ms)=10670\n",
      "\t\tPhysical memory (bytes) snapshot=1347829760\n",
      "\t\tVirtual memory (bytes) snapshot=8285179904\n",
      "\t\tTotal committed heap usage (bytes)=1423441920\n",
      "\tShuffle Errors\n",
      "\t\tBAD_ID=0\n",
      "\t\tCONNECTION=0\n",
      "\t\tIO_ERROR=0\n",
      "\t\tWRONG_LENGTH=0\n",
      "\t\tWRONG_MAP=0\n",
      "\t\tWRONG_REDUCE=0\n",
      "\tFile Input Format Counters \n",
      "\t\tBytes Read=21254096\n",
      "\tFile Output Format Counters \n",
      "\t\tBytes Written=22356\n",
      "20/05/26 14:08:42 INFO streaming.StreamJob: Output directory: /user/root/TOS/sort/resSampleData\n"
     ]
    }
   ],
   "source": [
    "!hdfs dfs -rm -r {HDFS_DIR}/sort/resSampleData\n",
    "!hadoop jar {JAR_FILE} \\\n",
    "    -D stream.num.map.output.key.fields=3 \\\n",
    "    -D stream.map.output.field.separator=\"\\t\" \\\n",
    "    -D mapreduce.partition.keypartitioner.options=-k2,2n \\\n",
    "    -D mapreduce.job.output.key.comparator.class=org.apache.hadoop.mapred.lib.KeyFieldBasedComparator \\\n",
    "    -D mapreduce.partition.keycomparator.options=\"-k2,2n -k3,3n\" \\\n",
    "    -files ReservoirSample_mapper.py,ReservoirSample_reducer.py \\\n",
    "    -mapper ReservoirSample_mapper.py \\\n",
    "    -reducer ReservoirSample_reducer.py \\\n",
    "    -input {HDFS_DIR}/sort/random_numbers \\\n",
    "    -output {HDFS_DIR}/sort/resSampleData \\\n",
    "    -numReduceTasks 4 \\\n",
    "    -partitioner org.apache.hadoop.mapred.lib.KeyFieldBasedPartitioner \\\n",
    "    -cmdenv R=1000 \\\n",
    "    -cmdenv PATH={PATH}"
   ]
  },
  {
   "cell_type": "code",
   "execution_count": 184,
   "metadata": {},
   "outputs": [
    {
     "name": "stdout",
     "output_type": "stream",
     "text": [
      "Found 5 items\n",
      "-rw-r--r--   1 root supergroup          0 2020-05-26 14:08 /user/root/TOS/sort/resSampleData/_SUCCESS\n",
      "-rw-r--r--   1 root supergroup       5599 2020-05-26 14:08 /user/root/TOS/sort/resSampleData/part-00000\n",
      "-rw-r--r--   1 root supergroup       5610 2020-05-26 14:08 /user/root/TOS/sort/resSampleData/part-00001\n",
      "-rw-r--r--   1 root supergroup       5572 2020-05-26 14:08 /user/root/TOS/sort/resSampleData/part-00002\n",
      "-rw-r--r--   1 root supergroup       5575 2020-05-26 14:08 /user/root/TOS/sort/resSampleData/part-00003\n"
     ]
    }
   ],
   "source": [
    "!hdfs dfs -ls {HDFS_DIR}/sort/resSampleData/"
   ]
  },
  {
   "cell_type": "code",
   "execution_count": 185,
   "metadata": {},
   "outputs": [],
   "source": [
    "!hdfs dfs -cat {HDFS_DIR}/sort/resSampleData/part-* > resSampleData.txt"
   ]
  },
  {
   "cell_type": "code",
   "execution_count": 186,
   "metadata": {},
   "outputs": [
    {
     "name": "stdout",
     "output_type": "stream",
     "text": [
      "5.574918167903911481\t\n",
      "1.571505454171698846\t\n",
      "0.752479853907217500\t\n",
      "11.253497108987883024\t\n",
      "13.504271654126098312\t\n"
     ]
    }
   ],
   "source": [
    "!head -n 5 resSampleData.txt"
   ]
  },
  {
   "cell_type": "code",
   "execution_count": 187,
   "metadata": {},
   "outputs": [
    {
     "name": "stdout",
     "output_type": "stream",
     "text": [
      "1000 resSampleData.txt\n"
     ]
    }
   ],
   "source": [
    "!wc -l resSampleData.txt"
   ]
  },
  {
   "cell_type": "markdown",
   "metadata": {},
   "source": [
    "<h2><a name=\"III.B\">III.B. Custom partition file implementation</a></h2>\n",
    "<a href=\"#top\">Back to top</a>\n"
   ]
  },
  {
   "cell_type": "markdown",
   "metadata": {},
   "source": [
    "<h3>Percentile Based Partitioning</h3>\n",
    "\n",
    "Once we have a (small) sampled subset of data, we can compute partition boundaries by examining the distribution of this subset, and finding approporiate percentiles based on number of desired partitions. A basic implementation using NumPy is provided below:"
   ]
  },
  {
   "cell_type": "code",
   "execution_count": 188,
   "metadata": {},
   "outputs": [],
   "source": [
    "def readSampleData(filePath):\n",
    "    # A sample of the data is stored in a single file in sampleData/part-00000\n",
    "    # from the previous step (RandomSample.py)\n",
    "    sampleData = []  \n",
    "\n",
    "    with open(filePath,\"r\") as f:\n",
    "        lines = f.readlines()\n",
    "        for line in lines:\n",
    "            line = line.strip().split(\"\\t\")[0]\n",
    "            sampleData.append(float(line))\n",
    "            \n",
    "    return sampleData"
   ]
  },
  {
   "cell_type": "code",
   "execution_count": 189,
   "metadata": {},
   "outputs": [],
   "source": [
    "from numpy import array, percentile, linspace, random\n",
    "\n",
    "def partition(data, num_of_partitions=3, return_percentiles=False):\n",
    "    # remove percentile 100\n",
    "    qs = linspace(0, 100, num=num_of_partitions, endpoint=False)\n",
    "    if not return_percentiles:\n",
    "        return percentile(data, qs)\n",
    "    return percentile(data, qs), qs"
   ]
  },
  {
   "cell_type": "code",
   "execution_count": 190,
   "metadata": {},
   "outputs": [],
   "source": [
    "sampleData = readSampleData('resSampleData.txt')\n",
    "partitionFile, percentiles = partition(sampleData, 3, return_percentiles=True)"
   ]
  },
  {
   "cell_type": "markdown",
   "metadata": {},
   "source": [
    "<h3> Visualize Partition </h3>"
   ]
  },
  {
   "cell_type": "code",
   "execution_count": 191,
   "metadata": {},
   "outputs": [
    {
     "data": {
      "image/png": "[encoded data removed]",
      "text/plain": [
       "<Figure size 720x432 with 1 Axes>"
      ]
     },
     "metadata": {
      "needs_background": "light"
     },
     "output_type": "display_data"
    },
    {
     "name": "stdout",
     "output_type": "stream",
     "text": [
      "Sample Data min 0.001046762963181624\n",
      "Sample Data max 29.43125395253612\n",
      "Partition file [1.04676296e-03 5.30686396e+00 1.08147038e+01]\n",
      "Percentiles [ 0.         33.33333333 66.66666667]\n"
     ]
    }
   ],
   "source": [
    "# Visualizae Partition File\n",
    "%matplotlib inline\n",
    "import pylab as pl\n",
    "\n",
    "num_buckets = 3\n",
    "\n",
    "fig, ax = pl.subplots(figsize=(10,6))\n",
    "\n",
    "ax.hist(sampleData,color=\"#48afe0\",edgecolor='none')\n",
    "\n",
    "xcoords = partitionFile\n",
    "for xc in xcoords:\n",
    "    pl.axvline(x=xc,color=\"#197f74\", linewidth=1)\n",
    "\n",
    "ax.spines['top'].set_visible(False)\n",
    "ax.spines['right'].set_visible(False)\n",
    "ax.spines['bottom'].set_visible(False)\n",
    "ax.spines['left'].set_visible(False)\n",
    "\n",
    "\n",
    "pl.title(str(num_buckets)+\" Percentile Spaced Buckets\")\n",
    "pl.show()\n",
    "\n",
    "print (\"Sample Data min\", min(sampleData))\n",
    "print (\"Sample Data max\", max(sampleData))\n",
    "print (\"Partition file\", partitionFile)\n",
    "print (\"Percentiles\", percentiles)"
   ]
  },
  {
   "cell_type": "markdown",
   "metadata": {},
   "source": [
    "<em>Figure 8. Percentile based partitions over skewed data.</em>\n",
    "\n",
    "We could now replace the hard-coded partition file in our Total Order Sort implementation above with a custom file built from a sample of the data."
   ]
  },
  {
   "cell_type": "markdown",
   "metadata": {},
   "source": [
    "<h1> Final Remarks</h1>\n",
    "<a href=\"#top\">Back to top</a>   \n",
    "\n",
    "A note on TotalSortPartitioner: Hadoop has built in TotalSortPartitioner, which uses a partition file _partition.lst to store a pre-built order list of split points.TotalSortPartitioner uses binary search / Trie to look up the ranges a given record falls into.\n",
    "\n",
    "https://github.com/facebookarchive/hadoop-20/blob/master/src/mapred/org/apache/hadoop/mapred/lib/TotalOrderPartitioner.java"
   ]
  },
  {
   "cell_type": "markdown",
   "metadata": {},
   "source": [
    "# References\n",
    "<a href=\"#top\">Back to top</a>   \n",
    "\n",
    "<ol>\n",
    "\n",
    "<li>http://wiki.apache.org/hadoop/</li>\n",
    "<li>http://hadoop.apache.org/docs/stable1/streaming.html#Hadoop+Streaming</li>\n",
    "<li>http://www.theunixschool.com/2012/08/linux-sort-command-examples.html</li>\n",
    "<li>https://hadoop.apache.org/docs/r2.7.2/hadoop-streaming/HadoopStreaming.html</li>\n",
    "<li>http://hadoop.apache.org/</li>\n",
    "<li>https://hadoop.apache.org/docs/r2.7.2/hadoop-project-dist/hadoop-common/SingleCluster.html</li>\n",
    "<li>https://hadoop.apache.org/docs/r1.2.1/streaming.html#Hadoop+Comparator+Class</li>\n",
    "<li>http://docs.aws.amazon.com/ElasticMapReduce/latest/DeveloperGuide/emr-steps.html</li>\n",
    "<li>https://github.com/apache/hadoop/blob/2e1d0ff4e901b8313c8d71869735b94ed8bc40a0/hadoop-mapreduce-project/hadoop-mapreduce-client/hadoop-mapreduce-client-core/src/main/java/org/apache/hadoop/mapreduce/lib/partition/KeyFieldBasedPartitioner.java</li>\n",
    "<li>http://science.sut.ac.th/mathematics/pairote/uploadfiles/weightedkm-temp2_EB.pdf</li>\n",
    "<li>http://spark.apache.org/</li>\n",
    "<li>https://www2.eecs.berkeley.edu/Pubs/TechRpts/2011/EECS-2011-82.pdf</li>\n",
    "<li>https://spark.apache.org/docs/1.6.2/programming-guide.html#working-with-key-value-pairs </li>\n",
    "<li>https://github.com/facebookarchive/hadoop-20/blob/master/src/mapred/org/apache/hadoop/mapred/lib/TotalOrderPartitioner.java </li>\n",
    "</ol>"
   ]
  }
 ],
 "metadata": {
  "kernelspec": {
   "display_name": "Python 3",
   "language": "python",
   "name": "python3"
  },
  "language_info": {
   "codemirror_mode": {
    "name": "ipython",
    "version": 3
   },
   "file_extension": ".py",
   "mimetype": "text/x-python",
   "name": "python",
   "nbconvert_exporter": "python",
   "pygments_lexer": "ipython3",
   "version": "3.7.5"
  },
  "toc": {
   "colors": {
    "hover_highlight": "#DAA520",
    "running_highlight": "#FF0000",
    "selected_highlight": "#FFD700"
   },
   "moveMenuLeft": true,
   "navigate_menu": true,
   "number_sections": true,
   "sideBar": false,
   "threshold": 4,
   "toc_cell": true,
   "toc_section_display": "block",
   "toc_window_display": true
  }
 },
 "nbformat": 4,
 "nbformat_minor": 4
}
